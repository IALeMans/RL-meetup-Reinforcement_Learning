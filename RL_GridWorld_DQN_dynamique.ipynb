{
  "nbformat": 4,
  "nbformat_minor": 0,
  "metadata": {
    "colab": {
      "name": "RL-GridWorld-DQN-dynamique.ipynb",
      "version": "0.3.2",
      "provenance": [],
      "collapsed_sections": [],
      "include_colab_link": true
    },
    "kernelspec": {
      "name": "python3",
      "display_name": "Python 3"
    }
  },
  "cells": [
    {
      "cell_type": "markdown",
      "metadata": {
        "id": "view-in-github",
        "colab_type": "text"
      },
      "source": [
        "<a href=\"https://colab.research.google.com/github/IALeMans/RL-meetup-Reinforcement_Learning/blob/master/RL_GridWorld_DQN_dynamique.ipynb\" target=\"_parent\"><img src=\"https://colab.research.google.com/assets/colab-badge.svg\" alt=\"Open In Colab\"/></a>"
      ]
    },
    {
      "metadata": {
        "id": "iXJ1sX3iFmdT",
        "colab_type": "text"
      },
      "cell_type": "markdown",
      "source": [
        "# Jeu GRID WORLD - DQN 2\n",
        "\n",
        "Source https://cdancette.fr/2018/01/03/reinforcement-learning-part3/\n",
        "\n",
        "\n",
        "## Reinforcement learning en python sur un jeu simple grâce au Q-learning, Partie 3\n",
        "\n",
        "\n",
        " Jeu dynamique, le terrain change à chaque partie : utilisation d’un réseau de neurones.\n",
        " \n",
        " \n",
        "  le terrain est modifié à chaque partie. Nous n’allons pas pouvoir stocker et visiter tous les états pour entrainer l’agent. Le réseau de neurone apprendra alors a généraliser, pour obtenir une fonction de valeur Q convenable.\n",
        "\n",
        "\n",
        "> ![Texte alternatif…](https://cdancette.fr/assets/qlearning2/capture.gif) \n",
        "\n",
        "Principe :\n",
        "\n",
        "![Texte alternatif…](https://cdancette.fr/assets/game.png)"
      ]
    },
    {
      "metadata": {
        "id": "s2gBCanWGLlV",
        "colab_type": "text"
      },
      "cell_type": "markdown",
      "source": [
        "## Le jeu \n",
        "\n",
        "Une seule différence : nous allons regénérer un terrain à chaque nouvelle partie. \n",
        "\n",
        "Ainsi Le seul changement sera la manière d’encoder l’état du jeu.\n",
        "\n",
        "Ainsi, la fonction get_state sera réécrite de la manière suivante :\n",
        "\n",
        "    def _get_state(self):\n",
        "        x, y = self.position\n",
        "        if self.alea:\n",
        "            return np.reshape([self._get_grille(x, y) for (x, y) in\n",
        "                    [self.position, self.end, self.hole, self.block]], (1, 64))\n",
        "        return flatten(self._get_grille(x, y))\n",
        "\n",
        "Ici, au lieu de renvoyer un tableau de taille 16 contenant juste la position de notre agent marqué par un 1, nous devons également indiquer la position des éléments sur le terrain.\n",
        "\n",
        "Les éléments à indiquer sont : \n",
        "* notre position **self.position**, \n",
        "* la position de l’arrivée **self.end**, \n",
        "* la position du trou **self.hole**, \n",
        "* et la position du mur **self.block**.\n",
        "\n",
        "Au lieu d’un tableau de taille 16 contenant des 0, avec un 1 pour marquer la position de l’agent, nous avons maintenant 4 tableaux similaires. L’état du jeu sera la concaténation de ces 4 tableaux (obtenu avec np.reshape). L’état est donc un tableau de taille 4x16 = 64 cases, et il contiendra quatre 1, et les autres éléments seront des 0.\n",
        "\n",
        "Ici pour encoder les états, nous avons utilisé ce qui est appelé un One Hot encoder : Pour chaque élément, il y a 16 possibilités, et on encode cela en utilisant un tableau de 16 cases, en mettant un 1 pour représenter la position de l’élément, et 0 dans les autres cases. Ce n’est pas une représentation très compacte : les 16 cases possibles peuvent être encodées sur 4 bits, il nous suffirait donc de 4 cases dans notre tableau pour encoder la position de chaque élément. Mais le réseau devrait alors apprendre à décoder cette représentation, ce qui nécessiterait certainement un modèle plus complexe, donc un entrainement plus long, ou bien une architecture plus grosse. L’encodage que nous avons choisi ici est extrèmement simple (mais il n’est pas le plus compact possible, toutes les entrées possibles ne sont pas du tout utilisés), et sera utilisé très facilement par le réseau de neurone."
      ]
    },
    {
      "metadata": {
        "id": "I1YDi7KFHWJE",
        "colab_type": "code",
        "colab": {}
      },
      "cell_type": "code",
      "source": [
        "import random\n",
        "\n",
        "flatten = lambda l: [item for sublist in l for item in sublist]\n",
        "\n",
        "class Game:\n",
        "    ACTION_UP = 0\n",
        "    ACTION_LEFT = 1\n",
        "    ACTION_DOWN = 2\n",
        "    ACTION_RIGHT = 3\n",
        "\n",
        "    ACTIONS = [ACTION_DOWN, ACTION_LEFT, ACTION_RIGHT, ACTION_UP]\n",
        "\n",
        "    ACTION_NAMES = [\"UP   \", \"LEFT \", \"DOWN \", \"RIGHT\"]\n",
        "\n",
        "    MOVEMENTS = {\n",
        "        ACTION_UP: (1, 0),\n",
        "        ACTION_RIGHT: (0, 1),\n",
        "        ACTION_LEFT: (0, -1),\n",
        "        ACTION_DOWN: (-1, 0)\n",
        "    }\n",
        "\n",
        "    num_actions = len(ACTIONS)\n",
        "\n",
        "    def __init__(self, n, m, wrong_action_p=0.1, alea=False):\n",
        "        self.n = n\n",
        "        self.m = m\n",
        "        self.wrong_action_p = wrong_action_p\n",
        "        self.alea = alea\n",
        "        self.generate_game()\n",
        "\n",
        "    def _position_to_id(self, x, y):\n",
        "        \"\"\"Donne l'identifiant de la position entre 0 et 15\"\"\"\n",
        "        return x + y * self.n\n",
        "\n",
        "    def _id_to_position(self, id):\n",
        "        \"\"\"Réciproque de la fonction précédente\"\"\"\n",
        "        return (id % self.n, id // self.n)\n",
        "\n",
        "    def generate_game(self):\n",
        "        cases = [(x, y) for x in range(self.n) for y in range(self.m)]\n",
        "        hole = random.choice(cases)\n",
        "        cases.remove(hole)\n",
        "        start = random.choice(cases)\n",
        "        cases.remove(start)\n",
        "        end = random.choice(cases)\n",
        "        cases.remove(end)\n",
        "        block = random.choice(cases)\n",
        "        cases.remove(block)\n",
        "\n",
        "        self.position = start\n",
        "        self.end = end\n",
        "        self.hole = hole\n",
        "        self.block = block\n",
        "        self.counter = 0\n",
        "        \n",
        "        if not self.alea:\n",
        "            self.start = start\n",
        "        return self._get_state()\n",
        "    \n",
        "    def reset(self):\n",
        "        if not self.alea:\n",
        "            self.position = self.start\n",
        "            self.counter = 0\n",
        "            return self._get_state()\n",
        "        else:\n",
        "            return self.generate_game()\n",
        "\n",
        "    def _get_grille(self, x, y):\n",
        "        grille = [\n",
        "            [0] * self.n for i in range(self.m)\n",
        "        ]\n",
        "        grille[x][y] = 1\n",
        "        return grille\n",
        "\n",
        "    def _get_state(self):\n",
        "        x, y = self.position\n",
        "        if self.alea:\n",
        "            return np.reshape([self._get_grille(x, y) for (x, y) in\n",
        "                    [self.position, self.end, self.hole, self.block]], (1, 64))\n",
        "        return flatten(self._get_grille(x, y))\n",
        "    \n",
        "    def get_random_action(self):\n",
        "        return random.choice(self.ACTIONS)\n",
        "    \n",
        "    def move(self, action):\n",
        "        \"\"\"\n",
        "        takes an action parameter\n",
        "        :param action : the id of an action\n",
        "        :return ((state_id, end, hole, block), reward, is_final, actions)\n",
        "        \"\"\"\n",
        "\n",
        "        self.counter += 1\n",
        "\n",
        "        if action not in self.ACTIONS:\n",
        "            raise Exception(\"Invalid action\")\n",
        "\n",
        "        # random actions sometimes (2 times over 10 default)\n",
        "        choice = random.random()\n",
        "        if choice < self.wrong_action_p:\n",
        "            action = (action + 1) % 4\n",
        "        elif choice < 2 * self.wrong_action_p:\n",
        "            action = (action - 1) % 4\n",
        "\n",
        "        d_x, d_y = self.MOVEMENTS[action]\n",
        "        x, y = self.position\n",
        "        new_x, new_y = x + d_x, y + d_y\n",
        "\n",
        "        if self.block == (new_x, new_y):\n",
        "            return self._get_state(), -1, False, self.ACTIONS\n",
        "        elif self.hole == (new_x, new_y):\n",
        "            self.position = new_x, new_y\n",
        "            return self._get_state(), -10, True, None\n",
        "        elif self.end == (new_x, new_y):\n",
        "            self.position = new_x, new_y\n",
        "            return self._get_state(), 10, True, self.ACTIONS\n",
        "        elif new_x >= self.n or new_y >= self.m or new_x < 0 or new_y < 0:\n",
        "            return self._get_state(), -1, False, self.ACTIONS\n",
        "        elif self.counter > 200:\n",
        "            self.position = new_x, new_y\n",
        "            return self._get_state(), -10, True, self.ACTIONS\n",
        "        else:\n",
        "            self.position = new_x, new_y\n",
        "            return self._get_state(), -1, False, self.ACTIONS\n",
        "\n",
        "    def print(self):\n",
        "        str = \"\"\n",
        "        for i in range(self.n - 1, -1, -1):\n",
        "            for j in range(self.m):\n",
        "                if (i, j) == self.position:\n",
        "                    str += \"x\"\n",
        "                elif (i, j) == self.block:\n",
        "                    str += \"¤\"\n",
        "                elif (i, j) == self.hole:\n",
        "                    str += \"o\"\n",
        "                elif (i, j) == self.end:\n",
        "                    str += \"@\"\n",
        "                else:\n",
        "                    str += \".\"\n",
        "            str += \"\\n\"\n",
        "        print(str)"
      ],
      "execution_count": 0,
      "outputs": []
    },
    {
      "metadata": {
        "id": "SpxB4iv0HRyn",
        "colab_type": "text"
      },
      "cell_type": "markdown",
      "source": [
        "## Un problème plus complexe\n",
        "\n",
        "On peut voir que le problème est plus complexe que celui de la partie précédente : \n",
        "\n",
        "\n",
        "> au lieu de 4 états différents, encodés dans un tableau de taille 16,\n",
        "\n",
        "> on a 16x15x14x13 = 43680 états possibles. \n",
        "\n",
        "\n",
        "\n",
        "Il serait difficile d’appliquer la méthode de la première partie de ce tutoriel (stocker les Q-values dans un tableau). \n",
        "\n",
        "L’utilisation d’un réseau de neurone, comme nous l’avons vu dans la partie 2, nous sera alors très utile ici. \n",
        "\n",
        "\n",
        "Avec un réseau légèrement plus complexe, nous allons pouvoir résoudre ce problème. Néanmoins, l’entrainement est plus compliqué ici. Pour garantir la convergence de la méthode classique du Q-learning, l’agent devrait parcourir tous les états un grand nombre de fois. Or ici, notre espace d’état étant très grand, l’agent ne parcourera surement pas la totalité de ces états de nombreuses fois. C’est pour cela que nous attendons de notre réseau de neurone qu’il généralise, pour appliquer ses connaissances acquises à l’entrainement sur des états qu’il n’a jamais rencontré. Il aurait été impossible de généraliser avec la méthode de l’article 1, en utilisant un tableau.\n",
        "\n",
        "Nous allons évoquer plusieurs concepts très utilisés en machine learning et en reinforcement learning : **le principe du batch**, et celui de **l’experience replay**."
      ]
    },
    {
      "metadata": {
        "id": "r5N_2a-KH0p8",
        "colab_type": "text"
      },
      "cell_type": "markdown",
      "source": [
        "## Batch\n",
        "\n",
        "En machine learning, pour entrainer nos réseaux de neurones, on utilise généralement des batch de données. \n",
        "C’est à dire qu’au lieu de ne donner qu’un seul exemple, avec son label, on lui donne à chaque fois un nombre fixe d’exemples (par exemple 10 samples). Cela permet à l’algorithme de gradient de choisir une direction qui ne dépendra pas que d’un seul exemple, qui pourrait être trop précis et ne pas améliorer le score global, mais plutôt une direction moyenne, qui sera certainement plus bénéfique au réseau de manière générale.\n",
        "\n",
        " ![Texte alternatif…](https://cdancette.fr/assets/qlearning3/batches.png)\n",
        "\n",
        "Le batching est également utilisé quand le dataset entier ne rentre pas dans la RAM / la mémoire du GPU. Il est alors nécéssaire de diviser le dataset en batches, que l’on va charger en mémoire pour entrainer le réseau, puis décharger. La contrainte est alors que la taille d’un batch ne dépasse pas la taille de la mémoire (c’est surtout un problème en traitement d’image, ou les données ont une taille importante).\n",
        "\n",
        "Le batching est utilisé avec l’algorithme de **stochastig gradient descent** ou descente de gradiant stochastique, en remplaçant un exemple par un petit nombre d’exemples (ou bien avec d’autres algorithmes dérivés tels que Adam).\n",
        "\n",
        "Le batching est très souvent utilisé en deep learning. Toutefois en reinforcement learning, cela paraît plus compliqué, puisque nous n’avons qu’un exemple à chaque action effectuée. Il est donc impossible à priori d’utiliser cette méthode. Nous allons voir que la méthode de **l’experience replay** permet de résoudre ce problème"
      ]
    },
    {
      "metadata": {
        "id": "zjeDtSrfIRcV",
        "colab_type": "text"
      },
      "cell_type": "markdown",
      "source": [
        "## Experience Replay\n",
        "\n",
        "L’experience replay est une méthode spécifique au reinforcement learning (contrairement au batching qui est utilisé très souvent en deep learning).\n",
        "\n",
        "Il nous permet en fait d’utiliser des batch pendant l’entrainement de notre agent, au lieu de l’entrainer à chaque mouvement sur les données qu’il vient de recevoir.\n",
        "\n",
        "Il s’agit de stocker à chaque mouvement les paramètres d’entrainement (état de départ, action, état d’arrivée, récompense, fin du jeu) dans une mémoire, au lieu d’entrainer notre réseau de neurone dessus. Et ensuite, régulièrement, on va piocher un batch dans cette mémoire (c’est à dire un certain nombre d’exemples), au hasard, et on va entrainer notre réseau sur ce batch.\n",
        "\n",
        "Cela permet d’éviter un trop grand va-et-vient des poids du réseau. En effet, le réseau oublie ce qu’il vient d’apprendre si on lui donne des exemples successifs qui ont des indications contraires (il n’arrive pas à généraliser, et va osciller). En lui donnant un batch en effet, la backpropagation va choisir une direction moyenne pour optimiser les poids du réseau afin de faire diminuer l’erreur.\n",
        "\n",
        "Cela va également nous permettre de voir plusieurs fois des situations passées. Et les exemples trop vieux seront vidés de la mémoire (on limite la taille de la mémoire en nombre d’exemples).\n",
        "\n",
        " ![Texte alternatif…](https://cdancette.fr/assets/qlearning3/experiencereplay.png)\n",
        "\n",
        "Il existe de nombreuses améliorations possibles. Par exempe, le *Prioritized experience replay (article [1] ou blog), ou on voit les situations les plus importantes en priorité, au lieu tirer des exemples au hasard dans la mémoire."
      ]
    },
    {
      "metadata": {
        "id": "Unpxxw4KIuh9",
        "colab_type": "text"
      },
      "cell_type": "markdown",
      "source": [
        "## Entrainement"
      ]
    },
    {
      "metadata": {
        "id": "0jnv2CgrFlmr",
        "colab_type": "code",
        "colab": {}
      },
      "cell_type": "code",
      "source": [
        "# defining the neural network\n",
        "import numpy as np\n",
        "from keras.models import Sequential, load_model\n",
        "from keras.layers.core import Dense, Dropout, Activation\n",
        "from keras.optimizers import RMSprop, Adam, sgd\n",
        "from keras.layers.advanced_activations import LeakyReLU\n",
        "import random\n",
        "import os\n",
        "\n",
        "from collections import deque\n",
        "\n",
        "class Trainer:\n",
        "    def __init__(self, name=None, learning_rate=0.001, epsilon_decay=0.9999, batch_size=30, memory_size=3000):\n",
        "        self.state_size = 64\n",
        "        self.action_size = 4\n",
        "        self.gamma = 0.9\n",
        "        self.epsilon = 1.0\n",
        "        self.epsilon_min = 0.01\n",
        "        self.epsilon_decay = epsilon_decay\n",
        "        self.learning_rate = learning_rate\n",
        "        self.memory = deque(maxlen=memory_size)\n",
        "        self.batch_size = batch_size\n",
        "        \n",
        "        self.name = name\n",
        "        if name is not None and os.path.isfile(\"model-\" + name):\n",
        "                model = load_model(\"model-\" + name)\n",
        "        else:\n",
        "            model = Sequential()\n",
        "            model.add(Dense(50, input_dim=self.state_size, activation='relu'))\n",
        "            model.add(Dense(30, activation='relu'))\n",
        "            model.add(Dense(30, activation='relu'))\n",
        "            model.add(Dense(self.action_size, activation='linear'))\n",
        "            model.compile(loss='mse', optimizer=Adam(lr=self.learning_rate))\n",
        "        \n",
        "        self.model = model\n",
        "        \n",
        "    def decay_epsilon(self):\n",
        "        self.epsilon *= self.epsilon_decay\n",
        "    \n",
        "    def get_best_action(self, state, rand=True):\n",
        "\n",
        "        if rand and np.random.rand() <= self.epsilon:\n",
        "            # The agent acts randomly\n",
        "            return random.randrange(self.action_size)\n",
        "        \n",
        "        # Predict the reward value based on the given state\n",
        "        act_values = self.model.predict(np.array(state))\n",
        "\n",
        "        # Pick the action based on the predicted reward\n",
        "        action =  np.argmax(act_values[0])  \n",
        "        return action\n",
        "\n",
        "\n",
        "    def replay(self, batch_size):\n",
        "        batch_size = min(batch_size, len(self.memory))\n",
        "\n",
        "        minibatch = random.sample(self.memory, batch_size)\n",
        "\n",
        "        inputs = np.zeros((batch_size, self.state_size))\n",
        "        outputs = np.zeros((batch_size, self.action_size))\n",
        "\n",
        "        for i, (state, action, reward, next_state, done) in enumerate(minibatch):\n",
        "            target = self.model.predict(state)[0]\n",
        "            if done:\n",
        "                target[action] = reward\n",
        "            else:\n",
        "                target[action] = reward + self.gamma * np.max(self.model.predict(next_state))\n",
        "\n",
        "            inputs[i] = state\n",
        "            outputs[i] = target\n",
        "\n",
        "        return self.model.fit(inputs, outputs, epochs=1, verbose=0, batch_size=batch_size)\n",
        "\n",
        "    def save(self, id=None, overwrite=False):\n",
        "        name = 'model'\n",
        "        if self.name:\n",
        "            name += '-' + self.name\n",
        "        else:\n",
        "            name += '-' + str(time.time())\n",
        "        if id:\n",
        "            name += '-' + id\n",
        "        self.model.save(name, overwrite=overwrite)\n",
        "        \n",
        "    def remember(self, state, action, reward, next_state, done):\n",
        "        self.memory.append([state, action, reward, next_state, done])"
      ],
      "execution_count": 0,
      "outputs": []
    },
    {
      "metadata": {
        "id": "ovqi4vYSI7r6",
        "colab_type": "text"
      },
      "cell_type": "markdown",
      "source": [
        "### Paramètres du trainer\n",
        "\n",
        "\n",
        "Les paramètres sont assez similaires à ceux de l’article p’écédent. On a juste ajouté une nouvelle couche à notre réseau (pour lui donner une meilleur force de représentation des données).\n",
        "\n",
        "La ligne qui change est celle-ci :\n",
        "\n",
        "        self.memory = deque(maxlen=memory_size)\n",
        "\n",
        "**memory** est la structure de données qui va nous servir de mémoire pour stocker nos ensembles (state, action, new_state, reward). C’est grâce à cette mémoire que l’on peut faire de l’experience replay. A chaque action, on va remplir cette mémoire au lieu d’entrainer, puis on va régulièrement piocher aléatoirement des samples dans cette mémoire, pour lancer l’entrainement sur un batch de données. Pour stocker, on utilise la structure collections.deque de python. Il s’agit d’une queue qui peut avoir une taille limitée, qui va supprimer automatiquement les éléments ajoutés les premiers lorsque la taille limite est atteinte."
      ]
    },
    {
      "metadata": {
        "id": "NlwSzOBnJI6v",
        "colab_type": "text"
      },
      "cell_type": "markdown",
      "source": [
        "### Apprentissage\n",
        "\n",
        "Nous allons remplacer la fonction train par une fonction remember Au lieu de lancer une étape de backpropagation, elle va tout simplement stocker ce que l’on vient de voir, dans une queue (une structure de données qui va supprimer les éléments entrés en premier).\n",
        "\n"
      ]
    },
    {
      "metadata": {
        "id": "pyjansN3JP2K",
        "colab_type": "code",
        "colab": {}
      },
      "cell_type": "code",
      "source": [
        "class Trainer:\n",
        "    \n",
        "    ...\n",
        "    \n",
        "    def remember(self, state, action, reward, next_state, done):\n",
        "        self.memory.append([state, action, reward, next_state, done])\n",
        "    \n",
        "\n"
      ],
      "execution_count": 0,
      "outputs": []
    },
    {
      "metadata": {
        "id": "G5-hFjYZJSXd",
        "colab_type": "text"
      },
      "cell_type": "markdown",
      "source": [
        "Et enfin, il nous faut une fonction replay qui va piocher dans la mémoire, et donner ces données aux réseau de neurone.\n",
        "\n",
        "   "
      ]
    },
    {
      "metadata": {
        "id": "701-dbaQJZXm",
        "colab_type": "code",
        "colab": {}
      },
      "cell_type": "code",
      "source": [
        "...\n",
        "  def replay(self, batch_size):\n",
        "        batch_size = min(batch_size, len(self.memory))\n",
        "\n",
        "        minibatch = random.sample(self.memory, batch_size)\n",
        "\n",
        "        inputs = np.zeros((batch_size, self.state_size))\n",
        "        outputs = np.zeros((batch_size, self.action_size))\n",
        "\n",
        "        for i, (state, action, reward, next_state, done) in enumerate(minibatch):\n",
        "            target = self.model.predict(state)[0]\n",
        "            if done:\n",
        "                target[action] = reward\n",
        "            else:\n",
        "                target[action] = reward + self.gamma * np.max(self.model.predict(next_state))\n",
        "\n",
        "            inputs[i] = state\n",
        "            outputs[i] = target"
      ],
      "execution_count": 0,
      "outputs": []
    },
    {
      "metadata": {
        "id": "Ddz8-c82JXd2",
        "colab_type": "text"
      },
      "cell_type": "markdown",
      "source": [
        "\n",
        "\n",
        "Ainsi, ici, on va utiliser random.sample pour piocher un certain nombres d’éléments aléatoirement dans la mémoire. On crée alors nos entrées et sorties dans le bon format pour le réseau de neurone, similairement à la fonction train de l’article précédent. La différence est qu’ici, on crée un batch de plusieurs samples, au lieu de n’en donner qu’un (on voit que la dimension des input et output est (batch_size, state_size), alors qu’elle n’avait qu’une dimension précedemment."
      ]
    },
    {
      "metadata": {
        "id": "MfDIxgGHJjmg",
        "colab_type": "text"
      },
      "cell_type": "markdown",
      "source": [
        "## Lancer l’entrainement\n",
        "\n",
        "La fonction d’entrainement est un peu plus complexe, puisqu’on va executer une première partie ou l’on va remplir en partie la mémoire. Cela nous permettra de pouvoir créer des batch avec assez de données plus rapidement. Cette phase se déroule entre les lignes 13 et 25 du code ci-dessous.\n",
        "\n",
        "La deuxième phase est l’entrainement du réseau. On lance un entrainement à chaque 100 mouvements. On pourrait essayer d’en lancer plus ou moins souvent, l’apprentissage en serait surement impacté au niveau rapidité de convergence et qualité du minimum local. En général, lorsqu’un algorithme converge trop vite, le minimum local sera moins bon."
      ]
    },
    {
      "metadata": {
        "id": "yumWhwTzJqU-",
        "colab_type": "code",
        "colab": {}
      },
      "cell_type": "code",
      "source": [
        "import time \n",
        "from IPython.core.debugger import set_trace\n",
        "\n",
        "def train(episodes, trainer, wrong_action_p, alea, collecting=False, snapshot=5000):\n",
        "    batch_size = 32\n",
        "    g = Game(4, 4, wrong_action_p, alea=alea)\n",
        "    counter = 1\n",
        "    scores = []\n",
        "    global_counter = 0\n",
        "    losses = [0]\n",
        "    epsilons = []\n",
        "\n",
        "    # we start with a sequence to collect information, without learning\n",
        "    if collecting:\n",
        "        collecting_steps = 10000\n",
        "        print(\"Collecting game without learning\")\n",
        "        steps = 0\n",
        "        while steps < collecting_steps:\n",
        "            state = g.reset()\n",
        "            done = False\n",
        "            while not done:\n",
        "                steps += 1\n",
        "                action = g.get_random_action()\n",
        "                next_state, reward, done, _ = g.move(action)\n",
        "                trainer.remember(state, action, reward, next_state, done)\n",
        "                state = next_state\n",
        "\n",
        "    print(\"Starting training\")  \n",
        "    global_counter = 0\n",
        "    for e in range(episodes+1):\n",
        "        state = g.generate_game()\n",
        "        state = np.reshape(state, [1, 64])\n",
        "        score = 0\n",
        "        done = False\n",
        "        steps = 0\n",
        "        while not done:\n",
        "            steps += 1\n",
        "            global_counter += 1\n",
        "            action = trainer.get_best_action(state)\n",
        "            trainer.decay_epsilon()\n",
        "            next_state, reward, done, _ = g.move(action)\n",
        "            next_state = np.reshape(next_state, [1, 64])\n",
        "            score += reward\n",
        "            trainer.remember(state, action, reward, next_state, done)\n",
        "            state = next_state\n",
        "            if global_counter % 100 == 0:\n",
        "                l = trainer.replay(batch_size)\n",
        "                losses.append(l.history['loss'][0])\n",
        "            if done:\n",
        "                scores.append(score)\n",
        "                epsilons.append(trainer.epsilon)\n",
        "            if steps > 200:\n",
        "                break\n",
        "        if e % 200 == 0:\n",
        "            print(\"episode: {}/{}, moves: {}, score: {}, epsilon: {}, loss: {}\"\n",
        "                  .format(e, episodes, steps, score, trainer.epsilon, losses[-1]))\n",
        "        if e > 0 and e % snapshot == 0:\n",
        "            trainer.save(id='iteration-%s' % e)\n",
        "    return scores, losses, epsilons"
      ],
      "execution_count": 0,
      "outputs": []
    },
    {
      "metadata": {
        "id": "FIwoUxmIJ271",
        "colab_type": "text"
      },
      "cell_type": "markdown",
      "source": [
        "On peut alors lancer l’entrainement"
      ]
    },
    {
      "metadata": {
        "id": "QzGbPze6J6R7",
        "colab_type": "code",
        "outputId": "5f24c3c7-9586-4fb4-b4ea-cd2284897d9f",
        "colab": {
          "base_uri": "https://localhost:8080/",
          "height": 3085
        }
      },
      "cell_type": "code",
      "source": [
        "trainer = Trainer(learning_rate=0.001, epsilon_decay=0.999995)\n",
        "scores, losses, epsilons = train(35000, trainer, 0.1, True, snapshot=2500)"
      ],
      "execution_count": 0,
      "outputs": [
        {
          "output_type": "stream",
          "text": [
            "Starting training\n",
            "episode: 0/35000, moves: 16, score: -25, epsilon: 0.9999200029999294, loss: 0\n",
            "episode: 200/35000, moves: 13, score: -22, epsilon: 0.9814001063725329, loss: 1.7394689321517944\n",
            "episode: 400/35000, moves: 7, score: 4, epsilon: 0.9648862218983311, loss: 2.8518009185791016\n",
            "episode: 600/35000, moves: 11, score: -20, epsilon: 0.9473988189758515, loss: 1.1752405166625977\n",
            "episode: 800/35000, moves: 18, score: -7, epsilon: 0.9318204094956437, loss: 2.499586820602417\n",
            "episode: 1000/35000, moves: 2, score: -11, epsilon: 0.9167181477463254, loss: 3.792001485824585\n",
            "episode: 1200/35000, moves: 18, score: -27, epsilon: 0.9001982493573206, loss: 2.2735531330108643\n",
            "episode: 1400/35000, moves: 15, score: -4, epsilon: 0.8835341723717306, loss: 0.05706949904561043\n",
            "episode: 1600/35000, moves: 35, score: -44, epsilon: 0.8696361708712141, loss: 3.0634708404541016\n",
            "episode: 1800/35000, moves: 37, score: -46, epsilon: 0.8517089646646874, loss: 5.344153881072998\n",
            "episode: 2000/35000, moves: 7, score: 4, epsilon: 0.8343056533893967, loss: 0.1476757526397705\n",
            "episode: 2200/35000, moves: 92, score: -101, epsilon: 0.8208207754805851, loss: 1.8457168340682983\n",
            "episode: 2400/35000, moves: 57, score: -46, epsilon: 0.8054690174708321, loss: 2.1719095706939697\n",
            "episode: 2600/35000, moves: 8, score: 3, epsilon: 0.790495284358735, loss: 1.4876153469085693\n",
            "episode: 2800/35000, moves: 29, score: -38, epsilon: 0.775299683282988, loss: 3.89227294921875\n",
            "episode: 3000/35000, moves: 12, score: -21, epsilon: 0.7599818814722132, loss: 1.9834686517715454\n",
            "episode: 3200/35000, moves: 1, score: -10, epsilon: 0.743846383093576, loss: 7.926179885864258\n",
            "episode: 3400/35000, moves: 9, score: 2, epsilon: 0.726813187718767, loss: 2.0214126110076904\n",
            "episode: 3600/35000, moves: 11, score: -20, epsilon: 0.7118942886661673, loss: 2.396277666091919\n",
            "episode: 3800/35000, moves: 18, score: -7, epsilon: 0.6980734876605514, loss: 3.698812961578369\n",
            "episode: 4000/35000, moves: 24, score: -33, epsilon: 0.6798344510648243, loss: 1.9468047618865967\n",
            "episode: 4200/35000, moves: 10, score: 1, epsilon: 0.6650247507599166, loss: 2.4519639015197754\n",
            "episode: 4400/35000, moves: 1, score: 10, epsilon: 0.6505083954222641, loss: 3.4071452617645264\n",
            "episode: 4600/35000, moves: 10, score: 1, epsilon: 0.6362325546686318, loss: 0.04726772382855415\n",
            "episode: 4800/35000, moves: 147, score: -136, epsilon: 0.6221611187696863, loss: 0.4380035996437073\n",
            "episode: 5000/35000, moves: 22, score: -11, epsilon: 0.6086990884115006, loss: 0.13677585124969482\n",
            "episode: 5200/35000, moves: 8, score: -17, epsilon: 0.5949569088439031, loss: 0.1740928739309311\n",
            "episode: 5400/35000, moves: 19, score: -28, epsilon: 0.5835434610836164, loss: 3.3097753524780273\n",
            "episode: 5600/35000, moves: 201, score: -201, epsilon: 0.5717826184579975, loss: 0.060022443532943726\n",
            "episode: 5800/35000, moves: 9, score: 2, epsilon: 0.5605782453750852, loss: 0.2713325321674347\n",
            "episode: 6000/35000, moves: 5, score: 6, epsilon: 0.5473556491108919, loss: 1.7022207975387573\n",
            "episode: 6200/35000, moves: 2, score: -11, epsilon: 0.5368741577830463, loss: 2.1379952430725098\n",
            "episode: 6400/35000, moves: 7, score: 4, epsilon: 0.5260512666409267, loss: 0.3826833963394165\n",
            "episode: 6600/35000, moves: 9, score: -18, epsilon: 0.5172434383357347, loss: 0.22868990898132324\n",
            "episode: 6800/35000, moves: 8, score: -17, epsilon: 0.5055179633053899, loss: 0.3151611089706421\n",
            "episode: 7000/35000, moves: 1, score: -10, epsilon: 0.49378416800023583, loss: 2.0301947593688965\n",
            "episode: 7200/35000, moves: 16, score: -25, epsilon: 0.4794254659529851, loss: 0.04685003310441971\n",
            "episode: 7400/35000, moves: 8, score: 3, epsilon: 0.4682130287073306, loss: 2.0644049644470215\n",
            "episode: 7600/35000, moves: 1, score: -10, epsilon: 0.4568331932263625, loss: 0.18184669315814972\n",
            "episode: 7800/35000, moves: 33, score: -22, epsilon: 0.4501893552752338, loss: 3.100210428237915\n",
            "episode: 8000/35000, moves: 12, score: -1, epsilon: 0.44038891257806556, loss: 1.3547040224075317\n",
            "episode: 8200/35000, moves: 9, score: -18, epsilon: 0.4318046036338949, loss: 0.4160614609718323\n",
            "episode: 8400/35000, moves: 2, score: 9, epsilon: 0.423550660904482, loss: 1.9357020854949951\n",
            "episode: 8600/35000, moves: 18, score: -7, epsilon: 0.41724688367141827, loss: 1.6300020217895508\n",
            "episode: 8800/35000, moves: 17, score: -26, epsilon: 0.4090952624534873, loss: 1.5407683849334717\n",
            "episode: 9000/35000, moves: 26, score: -15, epsilon: 0.40276489534444915, loss: 3.5737457275390625\n",
            "episode: 9200/35000, moves: 8, score: 3, epsilon: 0.3955997471502964, loss: 0.2477540671825409\n",
            "episode: 9400/35000, moves: 1, score: 10, epsilon: 0.3895288461215431, loss: 1.4689751863479614\n",
            "episode: 9600/35000, moves: 7, score: 4, epsilon: 0.38364892780784143, loss: 2.475965976715088\n",
            "episode: 9800/35000, moves: 6, score: -15, epsilon: 0.3782263584681846, loss: 0.3526593744754791\n",
            "episode: 10000/35000, moves: 15, score: -24, epsilon: 0.3725803840764997, loss: 3.5720791816711426\n",
            "episode: 10200/35000, moves: 58, score: -67, epsilon: 0.3672756936401816, loss: 0.17742732167243958\n",
            "episode: 10400/35000, moves: 5, score: 6, epsilon: 0.36249393463181495, loss: 3.2910196781158447\n",
            "episode: 10600/35000, moves: 51, score: -40, epsilon: 0.3578155784340249, loss: 0.19354507327079773\n",
            "episode: 10800/35000, moves: 8, score: -17, epsilon: 0.35257651860580064, loss: 0.20473240315914154\n",
            "episode: 11000/35000, moves: 2, score: -11, epsilon: 0.3472752297556495, loss: 0.19877997040748596\n",
            "episode: 11200/35000, moves: 23, score: -12, epsilon: 0.34172714418671857, loss: 2.637934684753418\n",
            "episode: 11400/35000, moves: 6, score: -15, epsilon: 0.335230229035445, loss: 1.820784568786621\n",
            "episode: 11600/35000, moves: 1, score: -10, epsilon: 0.33024093995933756, loss: 4.074269771575928\n",
            "episode: 11800/35000, moves: 27, score: -16, epsilon: 0.3255520879892071, loss: 1.1899374723434448\n",
            "episode: 12000/35000, moves: 7, score: 4, epsilon: 0.3206042303216007, loss: 1.1551300287246704\n",
            "episode: 12200/35000, moves: 6, score: 5, epsilon: 0.3164949870811239, loss: 2.6760592460632324\n",
            "episode: 12400/35000, moves: 43, score: -52, epsilon: 0.3119732250181153, loss: 0.22417578101158142\n",
            "episode: 12600/35000, moves: 3, score: 8, epsilon: 0.30697991639534034, loss: 0.28171756863594055\n",
            "episode: 12800/35000, moves: 3, score: 8, epsilon: 0.3034653080640002, loss: 1.7495909929275513\n",
            "episode: 13000/35000, moves: 1, score: 10, epsilon: 0.2979236518029852, loss: 0.249897301197052\n",
            "episode: 13200/35000, moves: 7, score: 4, epsilon: 0.2928870995673728, loss: 5.565365791320801\n",
            "episode: 13400/35000, moves: 1, score: -10, epsilon: 0.2901613610571772, loss: 2.3399455547332764\n",
            "episode: 13600/35000, moves: 6, score: 5, epsilon: 0.2862948294785686, loss: 3.8240227699279785\n",
            "episode: 13800/35000, moves: 1, score: -10, epsilon: 0.2823823822120596, loss: 4.33489990234375\n",
            "episode: 14000/35000, moves: 24, score: -13, epsilon: 0.27906565820442836, loss: 1.941666841506958\n",
            "episode: 14200/35000, moves: 4, score: 7, epsilon: 0.2755384150389769, loss: 3.4399046897888184\n",
            "episode: 14400/35000, moves: 3, score: -12, epsilon: 0.2718096546761918, loss: 1.600379228591919\n",
            "episode: 14600/35000, moves: 1, score: -10, epsilon: 0.26813403559414606, loss: 1.5612488985061646\n",
            "episode: 14800/35000, moves: 1, score: -10, epsilon: 0.2643772216117732, loss: 1.871691346168518\n",
            "episode: 15000/35000, moves: 2, score: 9, epsilon: 0.261903713247428, loss: 1.9994609355926514\n",
            "episode: 15200/35000, moves: 3, score: 8, epsilon: 0.25919272669965693, loss: 1.8172094821929932\n",
            "episode: 15400/35000, moves: 3, score: 8, epsilon: 0.2559013123599464, loss: 1.1231383085250854\n",
            "episode: 15600/35000, moves: 9, score: 2, epsilon: 0.25354640118964206, loss: 1.4962897300720215\n",
            "episode: 15800/35000, moves: 4, score: -13, epsilon: 0.2509645823152537, loss: 2.3563218116760254\n",
            "episode: 16000/35000, moves: 2, score: 9, epsilon: 0.24780367291358935, loss: 6.542445182800293\n",
            "episode: 16200/35000, moves: 4, score: 7, epsilon: 0.24379354751344176, loss: 0.3285670280456543\n",
            "episode: 16400/35000, moves: 1, score: 10, epsilon: 0.24047994953980437, loss: 0.2683144807815552\n",
            "episode: 16600/35000, moves: 5, score: 6, epsilon: 0.23811689093523677, loss: 0.6956371068954468\n",
            "episode: 16800/35000, moves: 1, score: 10, epsilon: 0.23570043746988334, loss: 2.071943759918213\n",
            "episode: 17000/35000, moves: 3, score: 8, epsilon: 0.23302287796185994, loss: 3.0789687633514404\n",
            "episode: 17200/35000, moves: 20, score: -9, epsilon: 0.23035385084863416, loss: 1.833528757095337\n",
            "episode: 17400/35000, moves: 2, score: 9, epsilon: 0.22817242310473293, loss: 3.20135760307312\n",
            "episode: 17600/35000, moves: 28, score: -17, epsilon: 0.2258207536038493, loss: 4.974000930786133\n",
            "episode: 17800/35000, moves: 1, score: 10, epsilon: 0.22322194152462063, loss: 1.8656506538391113\n",
            "episode: 18000/35000, moves: 1, score: -10, epsilon: 0.22147650472268782, loss: 1.2691651582717896\n",
            "episode: 18200/35000, moves: 1, score: 10, epsilon: 0.2198073523208958, loss: 2.677577018737793\n",
            "episode: 18400/35000, moves: 12, score: -1, epsilon: 0.21738641055180188, loss: 2.9454009532928467\n",
            "episode: 18600/35000, moves: 2, score: 9, epsilon: 0.21530625140463103, loss: 2.6660239696502686\n",
            "episode: 18800/35000, moves: 18, score: -7, epsilon: 0.21333984630978636, loss: 0.7686796188354492\n",
            "episode: 19000/35000, moves: 5, score: 6, epsilon: 0.21064544929220808, loss: 2.00478458404541\n",
            "episode: 19200/35000, moves: 2, score: 9, epsilon: 0.20859015805492773, loss: 2.5066356658935547\n",
            "episode: 19400/35000, moves: 4, score: 7, epsilon: 0.2065631829071288, loss: 2.457782745361328\n",
            "episode: 19600/35000, moves: 2, score: 9, epsilon: 0.20450988487691144, loss: 0.8765338063240051\n",
            "episode: 19800/35000, moves: 1, score: -10, epsilon: 0.20245675048746814, loss: 1.8750965595245361\n",
            "episode: 20000/35000, moves: 3, score: 8, epsilon: 0.20103645671338674, loss: 4.777826309204102\n",
            "episode: 20200/35000, moves: 6, score: 5, epsilon: 0.19959718295646836, loss: 2.453378677368164\n",
            "episode: 20400/35000, moves: 4, score: 7, epsilon: 0.19767044525004906, loss: 0.5607945919036865\n",
            "episode: 20600/35000, moves: 1, score: 10, epsilon: 0.19652530694834688, loss: 2.3085711002349854\n",
            "episode: 20800/35000, moves: 3, score: 8, epsilon: 0.1946535258395752, loss: 1.3926372528076172\n",
            "episode: 21000/35000, moves: 2, score: -11, epsilon: 0.19309864408518873, loss: 2.7315707206726074\n",
            "episode: 21200/35000, moves: 5, score: 6, epsilon: 0.19186771526883714, loss: 3.656651735305786\n",
            "episode: 21400/35000, moves: 2, score: 9, epsilon: 0.19031795698767806, loss: 2.1385812759399414\n",
            "episode: 21600/35000, moves: 4, score: 7, epsilon: 0.1891312305560406, loss: 1.6711130142211914\n",
            "episode: 21800/35000, moves: 3, score: 8, epsilon: 0.18772368048962162, loss: 2.9670674800872803\n",
            "episode: 22000/35000, moves: 7, score: 4, epsilon: 0.1864197925051836, loss: 3.9108972549438477\n",
            "episode: 22200/35000, moves: 2, score: -11, epsilon: 0.18483731471343223, loss: 0.5465146899223328\n",
            "episode: 22400/35000, moves: 7, score: -16, epsilon: 0.18369762120803249, loss: 1.963381290435791\n",
            "episode: 22600/35000, moves: 9, score: 2, epsilon: 0.18266082697554414, loss: 0.8726239800453186\n",
            "episode: 22800/35000, moves: 14, score: -3, epsilon: 0.1815381842724734, loss: 2.4956603050231934\n",
            "episode: 23000/35000, moves: 1, score: -10, epsilon: 0.17995035211870125, loss: 2.7572922706604004\n",
            "episode: 23200/35000, moves: 3, score: -12, epsilon: 0.17873083772364434, loss: 2.4263503551483154\n",
            "episode: 23400/35000, moves: 4, score: 7, epsilon: 0.17735900496191695, loss: 1.6549367904663086\n",
            "episode: 23600/35000, moves: 3, score: 8, epsilon: 0.17611213756119276, loss: 1.8833613395690918\n",
            "episode: 23800/35000, moves: 7, score: 4, epsilon: 0.17469226096207138, loss: 2.3437411785125732\n",
            "episode: 24000/35000, moves: 1, score: 10, epsilon: 0.17371497877449488, loss: 1.9282853603363037\n",
            "episode: 24200/35000, moves: 4, score: 7, epsilon: 0.17265249721817472, loss: 1.6636219024658203\n",
            "episode: 24400/35000, moves: 2, score: -11, epsilon: 0.171716673959562, loss: 2.341569423675537\n",
            "episode: 24600/35000, moves: 1, score: -10, epsilon: 0.17074408558581528, loss: 1.8605129718780518\n",
            "episode: 24800/35000, moves: 4, score: 7, epsilon: 0.16998001116944572, loss: 2.2680792808532715\n",
            "episode: 25000/35000, moves: 6, score: 5, epsilon: 0.1690012031862921, loss: 1.7882192134857178\n",
            "episode: 25200/35000, moves: 2, score: 9, epsilon: 0.16795999379844004, loss: 2.364377498626709\n",
            "episode: 25400/35000, moves: 3, score: 8, epsilon: 0.16700951798345504, loss: 3.46917986869812\n",
            "episode: 25600/35000, moves: 18, score: -7, epsilon: 0.16619234002212335, loss: 2.1712050437927246\n",
            "episode: 25800/35000, moves: 3, score: 8, epsilon: 0.16528740031678715, loss: 7.171788215637207\n",
            "episode: 26000/35000, moves: 3, score: -12, epsilon: 0.1640400753487471, loss: 2.156291961669922\n",
            "episode: 26200/35000, moves: 7, score: 4, epsilon: 0.1630498112668617, loss: 2.5319695472717285\n",
            "episode: 26400/35000, moves: 4, score: 7, epsilon: 0.162289330506825, loss: 5.127933979034424\n",
            "episode: 26600/35000, moves: 2, score: 9, epsilon: 0.16104691399595947, loss: 2.3650784492492676\n",
            "episode: 26800/35000, moves: 2, score: 9, epsilon: 0.15987315115718148, loss: 1.7120075225830078\n",
            "episode: 27000/35000, moves: 8, score: 3, epsilon: 0.15879128684204266, loss: 2.1890783309936523\n",
            "episode: 27200/35000, moves: 11, score: 0, epsilon: 0.1574559375349427, loss: 1.4106974601745605\n",
            "episode: 27400/35000, moves: 1, score: 10, epsilon: 0.1565312456420458, loss: 1.7815542221069336\n",
            "episode: 27600/35000, moves: 2, score: -11, epsilon: 0.15554819619407173, loss: 1.1535643339157104\n",
            "episode: 27800/35000, moves: 4, score: 7, epsilon: 0.15473061138436242, loss: 2.2803425788879395\n",
            "episode: 28000/35000, moves: 78, score: -67, epsilon: 0.15367663110146723, loss: 3.0671842098236084\n",
            "episode: 28200/35000, moves: 3, score: 8, epsilon: 0.1525718417662191, loss: 2.4043290615081787\n",
            "episode: 28400/35000, moves: 30, score: -19, epsilon: 0.1516834167154099, loss: 1.6761083602905273\n",
            "episode: 28600/35000, moves: 3, score: -12, epsilon: 0.15092915455781816, loss: 2.12532114982605\n",
            "episode: 28800/35000, moves: 3, score: 8, epsilon: 0.15003529054941503, loss: 1.9132308959960938\n",
            "episode: 29000/35000, moves: 1, score: 10, epsilon: 0.14886509857909497, loss: 1.85899817943573\n",
            "episode: 29200/35000, moves: 2, score: 9, epsilon: 0.14818559460487712, loss: 1.597426414489746\n",
            "episode: 29400/35000, moves: 2, score: 9, epsilon: 0.14738312549535587, loss: 0.7207599878311157\n",
            "episode: 29600/35000, moves: 5, score: 6, epsilon: 0.146634116319602, loss: 1.5690181255340576\n",
            "episode: 29800/35000, moves: 3, score: 8, epsilon: 0.14585244588888435, loss: 2.83492374420166\n",
            "episode: 30000/35000, moves: 1, score: -10, epsilon: 0.14505245742144446, loss: 1.800123929977417\n",
            "episode: 30200/35000, moves: 3, score: 8, epsilon: 0.14431240654522906, loss: 1.8869935274124146\n",
            "episode: 30400/35000, moves: 1, score: -10, epsilon: 0.1435617744429163, loss: 3.128735303878784\n",
            "episode: 30600/35000, moves: 1, score: 10, epsilon: 0.14264020495041085, loss: 2.9791834354400635\n",
            "episode: 30800/35000, moves: 2, score: -11, epsilon: 0.1419557512841619, loss: 2.3890867233276367\n",
            "episode: 31000/35000, moves: 2, score: 9, epsilon: 0.14127670108304421, loss: 1.9425110816955566\n",
            "episode: 31200/35000, moves: 6, score: 5, epsilon: 0.14066699726151907, loss: 3.1680028438568115\n",
            "episode: 31400/35000, moves: 6, score: 5, epsilon: 0.13999621179211238, loss: 3.616201877593994\n",
            "episode: 31600/35000, moves: 3, score: 8, epsilon: 0.13925967425919034, loss: 1.8668732643127441\n",
            "episode: 31800/35000, moves: 2, score: 9, epsilon: 0.13860114370724755, loss: 1.2295362949371338\n",
            "episode: 32000/35000, moves: 13, score: -2, epsilon: 0.13786160576750714, loss: 3.377840995788574\n",
            "episode: 32200/35000, moves: 1, score: -10, epsilon: 0.13716029967544055, loss: 2.4194159507751465\n",
            "episode: 32400/35000, moves: 8, score: 3, epsilon: 0.13647347861721765, loss: 2.3826584815979004\n",
            "episode: 32600/35000, moves: 15, score: -4, epsilon: 0.13558249625749258, loss: 1.8829500675201416\n",
            "episode: 32800/35000, moves: 2, score: 9, epsilon: 0.1347195577245124, loss: 2.01269268989563\n",
            "episode: 33000/35000, moves: 1, score: -10, epsilon: 0.13385541855991195, loss: 1.577794075012207\n",
            "episode: 33200/35000, moves: 19, score: -8, epsilon: 0.13312988596699868, loss: 0.7775616645812988\n",
            "episode: 33400/35000, moves: 2, score: 9, epsilon: 0.13226932987414786, loss: 1.7639992237091064\n",
            "episode: 33600/35000, moves: 8, score: 3, epsilon: 0.13145705315225972, loss: 3.466488838195801\n",
            "episode: 33800/35000, moves: 3, score: 8, epsilon: 0.13070726337683625, loss: 1.2127180099487305\n",
            "episode: 34000/35000, moves: 1, score: -10, epsilon: 0.12977279284787985, loss: 1.2779690027236938\n",
            "episode: 34200/35000, moves: 2, score: -11, epsilon: 0.1288823737282867, loss: 3.1674792766571045\n",
            "episode: 34400/35000, moves: 1, score: 10, epsilon: 0.12823123328271918, loss: 2.0437698364257812\n",
            "episode: 34600/35000, moves: 2, score: 9, epsilon: 0.12765293460212282, loss: 3.0531821250915527\n",
            "episode: 34800/35000, moves: 11, score: 0, epsilon: 0.12700419534511814, loss: 1.8241941928863525\n",
            "episode: 35000/35000, moves: 3, score: 8, epsilon: 0.12626970126773496, loss: 1.945786952972412\n"
          ],
          "name": "stdout"
        }
      ]
    },
    {
      "metadata": {
        "id": "EkRbzxfmKGaK",
        "colab_type": "text"
      },
      "cell_type": "markdown",
      "source": [
        "Puis affichons les courbes de loss"
      ]
    },
    {
      "metadata": {
        "id": "YbVngKkTKKQ2",
        "colab_type": "code",
        "outputId": "4681d704-5673-477e-9007-2ff904fe49df",
        "colab": {
          "base_uri": "https://localhost:8080/",
          "height": 328
        }
      },
      "cell_type": "code",
      "source": [
        "import matplotlib.pyplot as plt\n",
        "%matplotlib inline\n",
        "\n",
        "def smooth(vector, width=30):\n",
        "    return np.convolve(vector, [1/width]*width, mode='valid')\n",
        "  \n",
        "  \n",
        "sc = smooth(scores, width=500)\n",
        "\n",
        "\n",
        "fig, ax1 = plt.subplots()\n",
        "ax1.plot(sc)\n",
        "ax2 = ax1.twinx()\n",
        "ax2.plot(epsilons, color='r')\n",
        "ax1.set_ylabel('Score')\n",
        "ax2.set_ylabel('Epsilon', color='r')\n",
        "ax2.tick_params('y', colors='r')\n",
        "plt.title(\"Score, and Epsilon over training\")\n",
        "ax1.set_xlabel(\"Episodes\")\n",
        "plt.figure()"
      ],
      "execution_count": 0,
      "outputs": [
        {
          "output_type": "execute_result",
          "data": {
            "text/plain": [
              "<Figure size 432x288 with 0 Axes>"
            ]
          },
          "metadata": {
            "tags": []
          },
          "execution_count": 16
        },
        {
          "output_type": "display_data",
          "data": {
            "image/png": "[encoded data removed]",
            "text/plain": [
              "<Figure size 432x288 with 2 Axes>"
            ]
          },
          "metadata": {
            "tags": []
          }
        },
        {
          "output_type": "display_data",
          "data": {
            "text/plain": [
              "<Figure size 432x288 with 0 Axes>"
            ]
          },
          "metadata": {
            "tags": []
          }
        }
      ]
    },
    {
      "metadata": {
        "id": "osmPih6jKalb",
        "colab_type": "text"
      },
      "cell_type": "markdown",
      "source": [
        "On voit très clairement que notre réseau a appris à jouer de manière satisfaisante. Le score moyen en fin d’apprentissage est légèrement au dessus de 0, ce qui veut dire que l’agent arrive à la fin en moyenne en moins de 10 coups."
      ]
    },
    {
      "metadata": {
        "id": "dIApcYOKKeQZ",
        "colab_type": "code",
        "colab": {}
      },
      "cell_type": "code",
      "source": [
        "\n",
        "\n",
        "from IPython import display\n",
        "import time\n",
        "g = Game(4, 4, 0.1, alea=True)\n",
        "\n"
      ],
      "execution_count": 0,
      "outputs": []
    },
    {
      "metadata": {
        "id": "EqKvuUzvKe7Y",
        "colab_type": "code",
        "outputId": "bd25d568-d10f-45c5-f983-7d73d3a5cf0e",
        "colab": {
          "base_uri": "https://localhost:8080/",
          "height": 155
        }
      },
      "cell_type": "code",
      "source": [
        "state = g.reset()\n",
        "state = g._get_state()\n",
        "print(\"state\")\n",
        "print(\"  \")\n",
        "g.print()\n",
        "done = False\n",
        "time.sleep(5)\n",
        "while not done:\n",
        "    time.sleep(1)\n",
        "    display.clear_output(wait=True)\n",
        "    print(trainer.model.predict(np.array(g._get_state())))\n",
        "    action = trainer.get_best_action(g._get_state(), rand=False)\n",
        "    print(Game.ACTION_NAMES[action])\n",
        "    next_state, reward, done, _ = g.move(action)\n",
        "    g.print()\n",
        "print(reward)"
      ],
      "execution_count": 0,
      "outputs": [
        {
          "output_type": "stream",
          "text": [
            "[[3.7476544 5.4571967 6.7407804 6.145734 ]]\n",
            "DOWN \n",
            "....\n",
            "....\n",
            "o.¤.\n",
            "...x\n",
            "\n",
            "10\n"
          ],
          "name": "stdout"
        }
      ]
    }
  ]
}