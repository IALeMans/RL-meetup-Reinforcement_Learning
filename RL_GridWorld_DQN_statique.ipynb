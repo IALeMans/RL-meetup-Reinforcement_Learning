{
  "nbformat": 4,
  "nbformat_minor": 0,
  "metadata": {
    "colab": {
      "name": "RL-GridWorld-DQN-statique.ipynb",
      "version": "0.3.2",
      "provenance": [],
      "collapsed_sections": [],
      "include_colab_link": true
    },
    "kernelspec": {
      "name": "python3",
      "display_name": "Python 3"
    }
  },
  "cells": [
    {
      "cell_type": "markdown",
      "metadata": {
        "id": "view-in-github",
        "colab_type": "text"
      },
      "source": [
        "<a href=\"https://colab.research.google.com/github/IALeMans/RL-meetup-Reinforcement_Learning/blob/master/RL_GridWorld_DQN_statique.ipynb\" target=\"_parent\"><img src=\"https://colab.research.google.com/assets/colab-badge.svg\" alt=\"Open In Colab\"/></a>"
      ]
    },
    {
      "metadata": {
        "id": "jaXc4ogPiMdw",
        "colab_type": "text"
      },
      "cell_type": "markdown",
      "source": [
        "# Jeu GRID WORLD - DQN\n",
        "\n",
        "Source https://cdancette.fr/2017/08/20/reinforcement-learning-part2/\n",
        "\n",
        "\n",
        "## Reinforcement learning sur un jeu simple grâce au Q-learning, Partie 2 : réseau de neurones avec Keras\n",
        "\n",
        "\n",
        "Jeu statique, le terrain ne change pas, utilisation d’un réseau de neurone pour approximer la fonction de valeurs Q.\n",
        "\n",
        "\n",
        "> ![Texte alternatif…](https://cdancette.fr/assets/qlearning2/capture.gif) \n",
        "\n",
        "Principe :\n",
        "\n",
        "![Texte alternatif…](https://cdancette.fr/assets/game.png)"
      ]
    },
    {
      "metadata": {
        "id": "Pby0y3OQjQbG",
        "colab_type": "text"
      },
      "cell_type": "markdown",
      "source": [
        "## Le jeu\n",
        "\n",
        "Identique, voir Partie 1 : Un terrain est fixé, avec la position des éléments. Puis l’agent doit apprendre comment gagner le maximum de points en se déplaçant sur ce terrain."
      ]
    },
    {
      "metadata": {
        "id": "-sTT6mw4jz88",
        "colab_type": "code",
        "colab": {}
      },
      "cell_type": "code",
      "source": [
        "import random\n",
        "\n",
        "flatten = lambda l: [item for sublist in l for item in sublist]\n",
        "\n",
        "class Game:\n",
        "    ACTION_UP = 0\n",
        "    ACTION_LEFT = 1\n",
        "    ACTION_DOWN = 2\n",
        "    ACTION_RIGHT = 3\n",
        "\n",
        "    ACTIONS = [ACTION_DOWN, ACTION_LEFT, ACTION_RIGHT, ACTION_UP]\n",
        "\n",
        "    ACTION_NAMES = [\"UP   \", \"LEFT \", \"DOWN \", \"RIGHT\"]\n",
        "\n",
        "    MOVEMENTS = {\n",
        "        ACTION_UP: (1, 0),\n",
        "        ACTION_RIGHT: (0, 1),\n",
        "        ACTION_LEFT: (0, -1),\n",
        "        ACTION_DOWN: (-1, 0)\n",
        "    }\n",
        "\n",
        "    num_actions = len(ACTIONS)\n",
        "\n",
        "    def __init__(self, n, m, wrong_action_p=0.1, alea=False):\n",
        "        self.n = n\n",
        "        self.m = m\n",
        "        self.wrong_action_p = wrong_action_p\n",
        "        self.alea = alea\n",
        "        self.generate_game()\n",
        "\n",
        "    def _position_to_id(self, x, y):\n",
        "        \"\"\"Donne l'identifiant de la position entre 0 et 15\"\"\"\n",
        "        return x + y * self.n\n",
        "\n",
        "    def _id_to_position(self, id):\n",
        "        \"\"\"Réciproque de la fonction précédente\"\"\"\n",
        "        return (id % self.n, id // self.n)\n",
        "\n",
        "    def generate_game(self):\n",
        "        cases = [(x, y) for x in range(self.n) for y in range(self.m)]\n",
        "        hole = random.choice(cases)\n",
        "        cases.remove(hole)\n",
        "        start = random.choice(cases)\n",
        "        cases.remove(start)\n",
        "        end = random.choice(cases)\n",
        "        cases.remove(end)\n",
        "        block = random.choice(cases)\n",
        "        cases.remove(block)\n",
        "\n",
        "        self.position = start\n",
        "        self.end = end\n",
        "        self.hole = hole\n",
        "        self.block = block\n",
        "        self.counter = 0\n",
        "        \n",
        "        if not self.alea:\n",
        "            self.start = start\n",
        "        return self._get_state()\n",
        "    \n",
        "    def reset(self):\n",
        "        if not self.alea:\n",
        "            self.position = self.start\n",
        "            self.counter = 0\n",
        "            return self._get_state()\n",
        "        else:\n",
        "            return self.generate_game()\n",
        "\n",
        "    def _get_grille(self, x, y):\n",
        "        grille = [\n",
        "            [0] * self.n for i in range(self.m)\n",
        "        ]\n",
        "        grille[x][y] = 1\n",
        "        return grille\n",
        "\n",
        "    def _get_state(self):\n",
        "        x, y = self.position\n",
        "        if self.alea:\n",
        "            return [self._get_grille(x, y) for (x, y) in\n",
        "                    [self.position, self.end, self.hole, self.block]]\n",
        "        return flatten(self._get_grille(x, y))\n",
        "    \n",
        "    def move(self, action):\n",
        "        \"\"\"\n",
        "        takes an action parameter\n",
        "        :param action : the id of an action\n",
        "        :return ((state_id, end, hole, block), reward, is_final, actions)\n",
        "        \"\"\"\n",
        "        \n",
        "        self.counter += 1\n",
        "\n",
        "        if action not in self.ACTIONS:\n",
        "            raise Exception(\"Invalid action\")\n",
        "\n",
        "        # random actions sometimes (2 times over 10 default)\n",
        "        choice = random.random()\n",
        "        if choice < self.wrong_action_p:\n",
        "            action = (action + 1) % 4\n",
        "        elif choice < 2 * self.wrong_action_p:\n",
        "            action = (action - 1) % 4\n",
        "\n",
        "        d_x, d_y = self.MOVEMENTS[action]\n",
        "        x, y = self.position\n",
        "        new_x, new_y = x + d_x, y + d_y\n",
        "\n",
        "        if self.block == (new_x, new_y):\n",
        "            return self._get_state(), -1, False, self.ACTIONS\n",
        "        elif self.hole == (new_x, new_y):\n",
        "            self.position = new_x, new_y\n",
        "            return self._get_state(), -10, True, None\n",
        "        elif self.end == (new_x, new_y):\n",
        "            self.position = new_x, new_y\n",
        "            return self._get_state(), 10, True, self.ACTIONS\n",
        "        elif new_x >= self.n or new_y >= self.m or new_x < 0 or new_y < 0:\n",
        "            return self._get_state(), -1, False, self.ACTIONS\n",
        "        elif self.counter > 200:\n",
        "            self.position = new_x, new_y\n",
        "            return self._get_state(), -1, True, self.ACTIONS\n",
        "        else:\n",
        "            self.position = new_x, new_y\n",
        "            return self._get_state(), -1, False, self.ACTIONS\n",
        "\n",
        "    def print(self):\n",
        "        str = \"\"\n",
        "        for i in range(self.n - 1, -1, -1):\n",
        "            for j in range(self.m):\n",
        "                if (i, j) == self.position:\n",
        "                    str += \"x\"\n",
        "                elif (i, j) == self.block:\n",
        "                    str += \"¤\"\n",
        "                elif (i, j) == self.hole:\n",
        "                    str += \"o\"\n",
        "                elif (i, j) == self.end:\n",
        "                    str += \"@\"\n",
        "                else:\n",
        "                    str += \".\"\n",
        "            str += \"\\n\"\n",
        "        print(str)"
      ],
      "execution_count": 0,
      "outputs": []
    },
    {
      "metadata": {
        "id": "ZD1U4E_5jW0C",
        "colab_type": "text"
      },
      "cell_type": "markdown",
      "source": [
        "## Le réseau de neurone\n",
        "\n",
        "Nous allons définir une classe “trainer”, qui sera l’interface avec le réseau de neurone.\n",
        "\n",
        "Les paramètres de cette classe seront :\n",
        "\n",
        "* les dimensions du réseau\n",
        "\n",
        "* le facteur d’actualisation . Il apparait dans la formule d’actualisation du Q learning .\n",
        "\n",
        "* Le learning rate . Ce sera le learning rate de l’algorithme d’apprentissage du réseau de neurone.\n",
        "\n",
        "* Le facteur d’exploration , et son coefficient multiplicateur (entre 0 et 1). A chaque étape, sera multiplié par ce facteur.\n",
        "\n",
        "\n",
        "\n",
        "\n",
        "\n"
      ]
    },
    {
      "metadata": {
        "id": "KSuP0HxPAcB_",
        "colab_type": "code",
        "colab": {}
      },
      "cell_type": "code",
      "source": [
        "class Trainer:\n",
        "    def __init__(self, name=None, learning_rate=0.01, epsilon_decay=0.9999):\n",
        "        self.state_size = 16\n",
        "        self.action_size = 4\n",
        "        self.gamma = 0.9\n",
        "        self.epsilon = 1.0\n",
        "        self.epsilon_min = 0.01\n",
        "        self.epsilon_decay = epsilon_decay\n",
        "        self.learning_rate = learning_rate\n",
        "        self.name = name"
      ],
      "execution_count": 0,
      "outputs": []
    },
    {
      "metadata": {
        "id": "aTu1uWmxAjzE",
        "colab_type": "text"
      },
      "cell_type": "markdown",
      "source": [
        "## Définition du réseau de neurone."
      ]
    },
    {
      "metadata": {
        "id": "l8VEhZVbAkH9",
        "colab_type": "code",
        "colab": {}
      },
      "cell_type": "code",
      "source": [
        "        if name is not None and os.path.isfile(\"model-\" + name):\n",
        "            model = load_model(\"model-\" + name)\n",
        "        else:\n",
        "            model = Sequential()\n",
        "            model.add(Dense(24, input_shape=(self.state_size,), activation='relu'))\n",
        "            model.add(Dense(24, activation=\"relu\"))\n",
        "            model.add(Dense(self.action_size, activation='linear'))\n",
        "            model.compile(loss='mse', optimizer=sgd(lr=self.learning_rate))\n",
        "\n",
        "        self.model = model  "
      ],
      "execution_count": 0,
      "outputs": []
    },
    {
      "metadata": {
        "id": "XUj0BSaYtbxD",
        "colab_type": "text"
      },
      "cell_type": "markdown",
      "source": [
        "\n",
        "  \n",
        "Les deux premières lignes sont utiles si l’on veut récupérer un modèle préexistant, enregistré sur le disque. La définition du modèle vient juste après :\n",
        "\n",
        "```model = Sequential() ``` Ceci définit un réseau de neurone constitué de couches successives. Chaque couche que l’on va définir va prendre en entrée la couche précedemment définie.\n",
        "\n",
        "```\n",
        "    model.add(Dense(24, input_shape=(self.state_size,), activation='relu'))\n",
        "    model.add(Dense(24, activation=\"relu\"))\n",
        "    model.add(Dense(self.action_size, activation='linear'))\n",
        " ```\n",
        "\n",
        "Ici, nous ajoutons 3 couches : \n",
        "\n",
        "> La première est constituée de 24 neurones, comme entrée le state (donc d’une taille state_size). L’activation est la fonction non linéaire qui filtre la sortie d’un neurone. \n",
        "\n",
        "> La seconde couche (hidden layer) est également constituée de 24 neurones, et de la même fonction d’activation.\n",
        "\n",
        "> La dernière couche (final layer) possède 4 sorties (self.action_size), une pour chaque action. Pour un état donné en entrée, la valeur que nous renverra chaque neurone sera un tableau de taille 4, chacun contenant la valeur estimée de cette action. Comme dans la parrtie précédente, nous choisirons alors l’action avec la valeur maximale.\n",
        "\n",
        "Enfin, la ligne  **``` model.compile(loss='mse', optimizer=sgd(lr=self.learning_rate)) ```** indique que la définition est terminée, et qu’on souhaite entrainer le réseau avec l’algorithme **sgd (stochastic gradient descent)**. \n",
        "\n",
        "De plus,  **``` loss=mse```** indique que l’on souhaite utiliser la los “mean squared error”, ie que l’on souhaite minimiser l’erreur quadratique moyenne. D’autres loss sont utilisables, mais celle-ci est adaptée à la régression que l’on a ici."
      ]
    },
    {
      "metadata": {
        "id": "sfF8qfsOAzrs",
        "colab_type": "text"
      },
      "cell_type": "markdown",
      "source": [
        "## Entrainement"
      ]
    },
    {
      "metadata": {
        "id": "6Xg5odbXiLIN",
        "colab_type": "code",
        "colab": {}
      },
      "cell_type": "code",
      "source": [
        "class Trainer():\n",
        "\n",
        "    ...\n",
        "\n",
        "    def train(self, state, action, reward, next_state, done):\n",
        "        target = self.model.predict(np.array([state]))[0]\n",
        "        if done:\n",
        "            target[action] = reward\n",
        "        else:\n",
        "            target[action] = reward + self.gamma * np.max(self.model.predict(np.array([next_state])))\n",
        "\n",
        "        inputs = np.array([state])\n",
        "        outputs = np.array([target])\n",
        "\n",
        "        return self.model.fit(inputs, outputs, epochs=1, verbose=0, batch_size=1)"
      ],
      "execution_count": 0,
      "outputs": []
    },
    {
      "metadata": {
        "id": "EUqxS6jdA8fm",
        "colab_type": "text"
      },
      "cell_type": "markdown",
      "source": [
        "Dans cette fonction, nous définissions la base de l’algorithme du Q learning : la mise à jour de Q.\n",
        "\n",
        "La formule est plus simple que dans le tutoriel précedent. En effet, la vitesse d’apprentissage (learning rate) n’apparait pas ici, car elle est incluse dans l’algorithme d’apprentissage, comme nous verrons plus tard. Nous définissions juste la valeur souhaitée de la valeur de Q pour cet état et cette action.\n",
        "\n",
        "\n",
        "```\n",
        "\n",
        "target = self.model.predict(np.array([state]))[0] \n",
        "\n",
        "```\n",
        "\n",
        "Ici, nous récupérons la valeur prédite par le réseau, pour cet état. target est un tableau de taille 4.\n",
        "\n",
        "\n",
        "\n",
        "\n",
        "\n",
        "\n",
        "```\n",
        "     if done:\n",
        "        target[action] = reward\n",
        "    else:\n",
        "        target[action] = reward + self.gamma * np.max(self.model.predict(np.array([next_state])))\n",
        "```\n",
        "\n",
        "Ici, nous choissions la valeur cible pour l’action que nous avons effectué (nous ne changeons pas la valeur pour les autres actions, puisque nous n’avons pas de donnée sur la reward que aurions obtenu). Si c’est l’état final, la cible est la récompense. Sinon, c’est la récompense, plus la meilleure valeur que nous pourrions obtenir avec l’action suivante (dégradée du facteur d’actualisation )\n",
        "\n",
        "\n",
        "\n",
        "\n",
        "```\n",
        "    inputs = np.array([state])\n",
        "    outputs = np.array([target])\n",
        "\n",
        "    return self.model.fit(inputs, outputs, epochs=1, verbose=0, batch_size=1)\n",
        "    \n",
        " ```\n",
        "\n",
        "C’est ici que s’effectue l’apprentissage du réseau : nous indiquons au réseau que pour cet état, il doit renvoyer cette sortie. Le réseau va alors modifier légerement ses poids (par l’algorithme de backpropagation), pour se rapprocher de la sortie désirée."
      ]
    },
    {
      "metadata": {
        "id": "fPQ_UdPwCHkD",
        "colab_type": "text"
      },
      "cell_type": "markdown",
      "source": [
        "### meilleure action \n",
        "\n",
        "Nous allons enfin définir une méthode qui nous renverra la meilleure action, pour un état donné. Cette fonction nous renverra un état aléatoire selon le paramètre d’exploration ."
      ]
    },
    {
      "metadata": {
        "id": "sn43d7ZvjUka",
        "colab_type": "code",
        "colab": {}
      },
      "cell_type": "code",
      "source": [
        "class Trainer():\n",
        "\n",
        "    ...\n",
        "\n",
        "    def get_best_action(self, state, rand=True):\n",
        "        \n",
        "        self.epsilon *= self.epsilon_decay\n",
        "\n",
        "        if rand and np.random.rand() <= self.epsilon:\n",
        "            # The agent acts randomly\n",
        "            return random.randrange(self.action_size)\n",
        "        \n",
        "        # Predict the reward value based on the given state\n",
        "        act_values = self.model.predict(np.array([state]))\n",
        "\n",
        "        # Pick the action based on the predicted reward\n",
        "        action =  np.argmax(act_values[0])  \n",
        "        return action"
      ],
      "execution_count": 0,
      "outputs": []
    },
    {
      "metadata": {
        "id": "-8Z1WYsiCUNY",
        "colab_type": "text"
      },
      "cell_type": "markdown",
      "source": [
        "D’abord, on multiplie epsilon par son facteur d’actualisation, de façon a diminuer progressivement l’aléatoire. \n",
        "\n",
        "On remarque que la fonction a un argument rand, qui indique si on souhaite une action possiblement aléatoire, ou la meilleure action possible (pas d’exploration).\n",
        "\n",
        "Le mode rand=False nous servira lorsque le modèle sera entrainé, pour l’utiliser.\n",
        "On retourne alors une action aléatoire avec une probabilité de , et sinon, la meilleure action. \n",
        "\n",
        "\n",
        "On utilise pour cela le réseau de neurone : \n",
        "\n",
        "\n",
        "```\n",
        "\n",
        "self.model.predict(np.array([state])) \n",
        "\n",
        "\n",
        "```\n",
        "\n",
        "nous renvoie les valeurs de chaque action, et il nous suffit de choisir l’action avec la valeur maximale."
      ]
    },
    {
      "metadata": {
        "id": "zTs8bkdODwfQ",
        "colab_type": "code",
        "colab": {}
      },
      "cell_type": "code",
      "source": [
        "import numpy as np\n",
        "from keras.models import Sequential, load_model\n",
        "from keras.layers.core import Dense, Activation\n",
        "from keras.optimizers import Adam, sgd\n",
        "import random\n",
        "import time\n",
        "import os\n",
        "\n",
        "from collections import deque\n",
        "\n",
        "class Trainer:\n",
        "    def __init__(self, name=None, learning_rate=0.01, epsilon_decay=0.9999):\n",
        "        self.state_size = 16\n",
        "        self.action_size = 4\n",
        "        self.gamma = 0.9\n",
        "        self.epsilon = 1.0\n",
        "        self.epsilon_min = 0.01\n",
        "        self.epsilon_decay = epsilon_decay\n",
        "        self.learning_rate = learning_rate\n",
        "        \n",
        "        self.name = name\n",
        "        \n",
        "        if name is not None and os.path.isfile(\"model-\" + name):\n",
        "            model = load_model(\"model-\" + name)\n",
        "        else:\n",
        "            model = Sequential()\n",
        "            model.add(Dense(24, input_shape=(self.state_size,), activation='relu'))\n",
        "            model.add(Dense(24, activation=\"relu\"))\n",
        "            model.add(Dense(self.action_size, activation='linear'))\n",
        "            model.compile(loss='mse', optimizer=sgd(lr=self.learning_rate))\n",
        "\n",
        "        self.model = model       \n",
        "\n",
        "    def get_best_action(self, state, rand=True):\n",
        "        \n",
        "        self.epsilon *= self.epsilon_decay\n",
        "\n",
        "        if rand and np.random.rand() <= self.epsilon:\n",
        "            # The agent acts randomly\n",
        "            return random.randrange(self.action_size)\n",
        "        \n",
        "        # Predict the reward value based on the given state\n",
        "        act_values = self.model.predict(np.array([state]))\n",
        "\n",
        "        # Pick the action based on the predicted reward\n",
        "        action =  np.argmax(act_values[0])  \n",
        "        return action\n",
        "\n",
        "    def train(self, state, action, reward, next_state, done):\n",
        "        target = self.model.predict(np.array([state]))[0]\n",
        "        if done:\n",
        "            target[action] = reward\n",
        "        else:\n",
        "            target[action] = reward + self.gamma * np.max(self.model.predict(np.array([next_state])))\n",
        "\n",
        "        inputs = np.array([state])\n",
        "        outputs = np.array([target])\n",
        "\n",
        "        return self.model.fit(inputs, outputs, epochs=1, verbose=0, batch_size=1)\n",
        "        \n",
        "    def save(self):\n",
        "        if self.name:\n",
        "            self.model.save(\"model-\" + self.name, overwrite=True)\n",
        "        else:\n",
        "            self.model.save(\"model-\" + str(time.time()))"
      ],
      "execution_count": 0,
      "outputs": []
    },
    {
      "metadata": {
        "id": "hs4Zl5u-C1XS",
        "colab_type": "text"
      },
      "cell_type": "markdown",
      "source": [
        "## Lancement de l’entrainement\n",
        "\n",
        "On définit une simple fonction ```train```, qui va boucler sur le nombre d’itérations que l’on souhaite."
      ]
    },
    {
      "metadata": {
        "id": "uGzRtZzgC8Pd",
        "colab_type": "code",
        "colab": {}
      },
      "cell_type": "code",
      "source": [
        "import time \n",
        "\n",
        "def train(episodes, trainer, game):\n",
        "    scores = []\n",
        "    losses = [0]\n",
        "    for e in range(episodes):\n",
        "        state = game.reset()\n",
        "        score = 0  # score in current game\n",
        "        done = False\n",
        "        steps = 0  # steps in current game\n",
        "        while not done:\n",
        "            steps += 1\n",
        "            action = trainer.get_best_action(state)\n",
        "            next_state, reward, done, _ = game.move(action)\n",
        "            score += reward\n",
        "            trainer.train(state, action, reward, next_state, done)\n",
        "            #print(state.index(1), Game.ACTION_NAMES[action], reward, next_state.index(1), \"DONE\" if done else \"\")\n",
        "            state = next_state\n",
        "            if done:\n",
        "                scores.append(score)\n",
        "                break\n",
        "            if steps > 200:\n",
        "                trainer.train(state, action, -10, state, True) # we end the game\n",
        "                scores.append(score)\n",
        "                break\n",
        "        if e % 100 == 0: # print log every 100 episode\n",
        "            print(\"episode: {}/{}, moves: {}, score: {}\"\n",
        "                  .format(e, episodes, steps, score))\n",
        "            print(f\"epsilon : {trainer.epsilon}\")\n",
        "    #trainer.save()\n",
        "    return scores"
      ],
      "execution_count": 0,
      "outputs": []
    },
    {
      "metadata": {
        "id": "HQjj8pz6C_nP",
        "colab_type": "text"
      },
      "cell_type": "markdown",
      "source": [
        "Dans cette boucle se déroule l’algorithme d’apprentissage par renforcement : \n",
        "\n",
        "L’agent effectue une action (obtenue par ```trainer.get_best_action```) récupère sa récompense, et le nouvel état. On entraine alors le réseau à associer le score de cet état et cette action à cette récompense par la fonction trainer.train.\n",
        "\n",
        "On peut alors lancer l’algorithme d’apprentissage :\n",
        "\n"
      ]
    },
    {
      "metadata": {
        "id": "BLmv0cL_ELbZ",
        "colab_type": "code",
        "outputId": "0c8eb5fa-20ef-4e39-d51f-737c52cfa729",
        "colab": {
          "base_uri": "https://localhost:8080/",
          "height": 121
        }
      },
      "cell_type": "code",
      "source": [
        "g = Game(4, 4, 0.1, alea=False) # Un jeu statique, avec 10% d'aléatoire dans les mouvements\n",
        "g.print()\n",
        "g._get_state()"
      ],
      "execution_count": 0,
      "outputs": [
        {
          "output_type": "stream",
          "text": [
            "..o.\n",
            "...@\n",
            ".¤..\n",
            "..x.\n",
            "\n"
          ],
          "name": "stdout"
        },
        {
          "output_type": "execute_result",
          "data": {
            "text/plain": [
              "[0, 0, 1, 0, 0, 0, 0, 0, 0, 0, 0, 0, 0, 0, 0, 0]"
            ]
          },
          "metadata": {
            "tags": []
          },
          "execution_count": 12
        }
      ]
    },
    {
      "metadata": {
        "id": "Cp1eeHxuEMpx",
        "colab_type": "text"
      },
      "cell_type": "markdown",
      "source": [
        "\n",
        "On obtient une grille de ce genre, ou \n",
        "* le x représente l’agent, \n",
        "* le o le puit, \n",
        "* le ¤ le mur \n",
        "* et le @ l’arrivée.\n",
        "\n",
        "\n",
        "> ```\n",
        "....\n",
        "..¤x\n",
        "..o.\n",
        "@...\n",
        "```\n",
        "\n",
        "On lance alors l’entrainement :\n",
        "\n"
      ]
    },
    {
      "metadata": {
        "id": "mFn-Saq2Dqbz",
        "colab_type": "code",
        "outputId": "a7f8c260-3298-4f29-c644-4583c563badd",
        "colab": {
          "base_uri": "https://localhost:8080/",
          "height": 710
        }
      },
      "cell_type": "code",
      "source": [
        "trainer = Trainer(learning_rate=0.01)\n",
        "score = train(2000, trainer, g)"
      ],
      "execution_count": 0,
      "outputs": [
        {
          "output_type": "stream",
          "text": [
            "episode: 0/2000, moves: 20, score: -9\n",
            "epsilon : 0.9980018988604846\n",
            "episode: 100/2000, moves: 16, score: -5\n",
            "epsilon : 0.8206899577199985\n",
            "episode: 200/2000, moves: 6, score: 5\n",
            "epsilon : 0.7295584680972701\n",
            "episode: 300/2000, moves: 7, score: 4\n",
            "epsilon : 0.6653644313547048\n",
            "episode: 400/2000, moves: 11, score: 0\n",
            "epsilon : 0.6067581624867086\n",
            "episode: 500/2000, moves: 5, score: 6\n",
            "epsilon : 0.5602181755495274\n",
            "episode: 600/2000, moves: 6, score: 5\n",
            "epsilon : 0.5129210305423535\n",
            "episode: 700/2000, moves: 4, score: 7\n",
            "epsilon : 0.476714718006927\n",
            "episode: 800/2000, moves: 4, score: 7\n",
            "epsilon : 0.4475620025503103\n",
            "episode: 900/2000, moves: 6, score: 5\n",
            "epsilon : 0.41968812087374857\n",
            "episode: 1000/2000, moves: 4, score: 7\n",
            "epsilon : 0.3927638540022978\n",
            "episode: 1100/2000, moves: 7, score: 4\n",
            "epsilon : 0.37081588614782407\n",
            "episode: 1200/2000, moves: 3, score: 8\n",
            "epsilon : 0.3506550162615826\n",
            "episode: 1300/2000, moves: 8, score: 3\n",
            "epsilon : 0.33145765546108874\n",
            "episode: 1400/2000, moves: 10, score: -19\n",
            "epsilon : 0.3137502603097956\n",
            "episode: 1500/2000, moves: 3, score: 8\n",
            "epsilon : 0.296484366409505\n",
            "episode: 1600/2000, moves: 3, score: 8\n",
            "epsilon : 0.281347868465493\n",
            "episode: 1700/2000, moves: 5, score: 6\n",
            "epsilon : 0.2679202668768514\n",
            "episode: 1800/2000, moves: 4, score: 7\n",
            "epsilon : 0.25454734863957157\n",
            "episode: 1900/2000, moves: 4, score: 7\n",
            "epsilon : 0.24104512080880044\n"
          ],
          "name": "stdout"
        }
      ]
    },
    {
      "metadata": {
        "id": "73t5l-DYEfFe",
        "colab_type": "text"
      },
      "cell_type": "markdown",
      "source": [
        "## Courbe de score en fonction de l’itération \n",
        "\n",
        "On peut afficher la courbe de score (ici moyennée sur 10 iterations successives)"
      ]
    },
    {
      "metadata": {
        "id": "IaDvfl4rEjpC",
        "colab_type": "code",
        "outputId": "40cbb04c-6934-4baf-95f2-0a6948241bd9",
        "colab": {
          "base_uri": "https://localhost:8080/",
          "height": 351
        }
      },
      "cell_type": "code",
      "source": [
        "import matplotlib.pyplot as plt\n",
        "score = np.array(score)\n",
        "score_c = np.convolve(score, np.full((10,), 1/10), mode=\"same\")\n",
        "plt.plot(score_c)\n",
        "plt.show()"
      ],
      "execution_count": 0,
      "outputs": [
        {
          "output_type": "display_data",
          "data": {
            "image/png": "[encoded data removed]",
            "text/plain": [
              "<Figure size 576x396 with 1 Axes>"
            ]
          },
          "metadata": {
            "tags": []
          }
        }
      ]
    },
    {
      "metadata": {
        "id": "GkwIC6XbEtVk",
        "colab_type": "text"
      },
      "cell_type": "markdown",
      "source": [
        "Nous pouvons maintenant afficher le résultat. On voit que l’agent a appris à éviter de passer à coté du trou : il préfère prendre le chemin le plus long, où la probabilité de tomber dedans est nulle."
      ]
    },
    {
      "metadata": {
        "id": "Be6soeMyErF3",
        "colab_type": "code",
        "outputId": "649a58fc-e47e-49be-b138-ed9affd4a8ca",
        "colab": {
          "base_uri": "https://localhost:8080/",
          "height": 394
        }
      },
      "cell_type": "code",
      "source": [
        "state = g.reset()\n",
        "state = g._get_state()\n",
        "done = False\n",
        "g.print()\n",
        "while not done:\n",
        "    time.sleep(1)\n",
        "    # on selectionne l'action avec rand=False pour choisir toujours la meilleure\n",
        "    action = trainer.get_best_action(g._get_state(), rand=False)\n",
        "    next_state, reward, done, _ = g.move(action)\n",
        "    g.print()"
      ],
      "execution_count": 0,
      "outputs": [
        {
          "output_type": "stream",
          "text": [
            "....\n",
            ".x..\n",
            ".¤.@\n",
            "...o\n",
            "\n",
            "....\n",
            "..x.\n",
            ".¤.@\n",
            "...o\n",
            "\n",
            "....\n",
            "...x\n",
            ".¤.@\n",
            "...o\n",
            "\n",
            "....\n",
            "....\n",
            ".¤.x\n",
            "...o\n",
            "\n"
          ],
          "name": "stdout"
        }
      ]
    }
  ]
}