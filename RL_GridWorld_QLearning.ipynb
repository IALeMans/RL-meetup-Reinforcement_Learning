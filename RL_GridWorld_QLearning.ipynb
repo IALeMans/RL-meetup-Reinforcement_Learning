{
  "nbformat": 4,
  "nbformat_minor": 0,
  "metadata": {
    "colab": {
      "name": "RL-GridWorld-QLearning.ipynb",
      "version": "0.3.2",
      "provenance": [],
      "collapsed_sections": [],
      "include_colab_link": true
    },
    "kernelspec": {
      "name": "python3",
      "display_name": "Python 3"
    }
  },
  "cells": [
    {
      "cell_type": "markdown",
      "metadata": {
        "id": "view-in-github",
        "colab_type": "text"
      },
      "source": [
        "<a href=\"https://colab.research.google.com/github/IALeMans/RL-meetup-Reinforcement_Learning/blob/master/RL_GridWorld_QLearning.ipynb\" target=\"_parent\"><img src=\"https://colab.research.google.com/assets/colab-badge.svg\" alt=\"Open In Colab\"/></a>"
      ]
    },
    {
      "metadata": {
        "id": "lcRtO5Mg-GKd",
        "colab_type": "text"
      },
      "cell_type": "markdown",
      "source": [
        "# Jeu GRID WORLD\n",
        "\n",
        "Source https://cdancette.fr/2017/08/18/reinforcement-learning-part1/\n",
        "\n",
        "> ![Texte alternatif…](https://cdancette.fr/assets/qlearning2/capture.gif) \n",
        "\n",
        "Principe :\n",
        "\n",
        "![Texte alternatif…](https://cdancette.fr/assets/game.png)"
      ]
    },
    {
      "metadata": {
        "id": "zMF4Pww-6y1y",
        "colab_type": "code",
        "colab": {}
      },
      "cell_type": "code",
      "source": [
        "import random\n",
        "\n",
        "\n",
        "class Game:\n",
        "    ACTION_UP = 0\n",
        "    ACTION_LEFT = 1\n",
        "    ACTION_DOWN = 2\n",
        "    ACTION_RIGHT = 3\n",
        "\n",
        "    ACTIONS = [ACTION_DOWN, ACTION_LEFT, ACTION_RIGHT, ACTION_UP]\n",
        "\n",
        "    ACTION_NAMES = [\"UP\", \"LEFT\", \"DOWN\", \"RIGHT\"]\n",
        "\n",
        "    MOVEMENTS = {\n",
        "        ACTION_UP: (1, 0),\n",
        "        ACTION_RIGHT: (0, 1),\n",
        "        ACTION_LEFT: (0, -1),\n",
        "        ACTION_DOWN: (-1, 0)\n",
        "    }\n",
        "\n",
        "    num_actions = len(ACTIONS)\n",
        "\n",
        "    def __init__(self, n, m, wrong_action_p=0.1, alea=False):\n",
        "        self.n = n\n",
        "        self.m = m\n",
        "        self.wrong_action_p = wrong_action_p\n",
        "        self.alea = alea\n",
        "        self.generate_game()\n",
        "\n",
        "\n",
        "\n",
        "    def _position_to_id(self, x, y):\n",
        "        \"\"\"Donne l'identifiant de la position entre 0 et 15\"\"\"\n",
        "        return x + y * self.n\n",
        "\n",
        "    def _id_to_position(self, id):\n",
        "        \"\"\"Réciproque de la fonction précédente\"\"\"\n",
        "        return (id % self.n, id // self.n)\n",
        "\n",
        "    def generate_game(self):\n",
        "        cases = [(x, y) for x in range(self.n) for y in range(self.m)]\n",
        "        hole = random.choice(cases)\n",
        "        cases.remove(hole)\n",
        "        start = random.choice(cases)\n",
        "        cases.remove(start)\n",
        "        end = random.choice(cases)\n",
        "        cases.remove(end)\n",
        "        block = random.choice(cases)\n",
        "        cases.remove(block)\n",
        "\n",
        "        self.position = start\n",
        "        self.end = end\n",
        "        self.hole = hole\n",
        "        self.block = block\n",
        "        self.counter = 0\n",
        "        \n",
        "        if not self.alea:\n",
        "            self.start = start\n",
        "        return self._get_state()\n",
        "    \n",
        "    def reset(self):\n",
        "        if not self.alea:\n",
        "            self.position = self.start\n",
        "            self.counter = 0\n",
        "            return self._get_state()\n",
        "        else:\n",
        "            return self.generate_game()\n",
        "\n",
        "    def _get_grille(self, x, y):\n",
        "        grille = [\n",
        "            [0] * self.n for i in range(self.m)\n",
        "        ]\n",
        "        grille[x][y] = 1\n",
        "        return grille\n",
        "\n",
        "    def _get_state(self):\n",
        "        if self.alea:\n",
        "            return [self._get_grille(x, y) for (x, y) in\n",
        "                    [self.position, self.end, self.hole, self.block]]\n",
        "        return self._position_to_id(*self.position)\n",
        "\n",
        "    def move(self, action):\n",
        "        \"\"\"\n",
        "        takes an action parameter\n",
        "        :param action : the id of an action\n",
        "        :return ((state_id, end, hole, block), reward, is_final, actions)\n",
        "        \"\"\"\n",
        "        \n",
        "        self.counter += 1\n",
        "\n",
        "        if action not in self.ACTIONS:\n",
        "            raise Exception(\"Invalid action\")\n",
        "\n",
        "        # random actions sometimes (2 times over 10 default)\n",
        "        choice = random.random()\n",
        "        if choice < self.wrong_action_p:\n",
        "            action = (action + 1) % 4\n",
        "        elif choice < 2 * self.wrong_action_p:\n",
        "            action = (action - 1) % 4\n",
        "\n",
        "        d_x, d_y = self.MOVEMENTS[action]\n",
        "        x, y = self.position\n",
        "        new_x, new_y = x + d_x, y + d_y\n",
        "\n",
        "        if self.block == (new_x, new_y):\n",
        "            return self._get_state(), -1, False, self.ACTIONS\n",
        "        elif self.hole == (new_x, new_y):\n",
        "            self.position = new_x, new_y\n",
        "            return self._get_state(), -10, True, None\n",
        "        elif self.end == (new_x, new_y):\n",
        "            self.position = new_x, new_y\n",
        "            return self._get_state(), 10, True, self.ACTIONS\n",
        "        elif new_x >= self.n or new_y >= self.m or new_x < 0 or new_y < 0:\n",
        "            return self._get_state(), -1, False, self.ACTIONS\n",
        "        elif self.counter > 190:\n",
        "            self.position = new_x, new_y\n",
        "            return self._get_state(), -10, True, self.ACTIONS\n",
        "        else:\n",
        "            self.position = new_x, new_y\n",
        "            return self._get_state(), -1, False, self.ACTIONS\n",
        "\n",
        "    def print(self):\n",
        "        str = \"\"\n",
        "        for i in range(self.n - 1, -1, -1):\n",
        "            for j in range(self.m):\n",
        "                if (i, j) == self.position:\n",
        "                    str += \"x\"\n",
        "                elif (i, j) == self.block:\n",
        "                    str += \"¤\"\n",
        "                elif (i, j) == self.hole:\n",
        "                    str += \"o\"\n",
        "                elif (i, j) == self.end:\n",
        "                    str += \"@\"\n",
        "                else:\n",
        "                    str += \".\"\n",
        "            str += \"\\n\"\n",
        "        print(str)"
      ],
      "execution_count": 0,
      "outputs": []
    },
    {
      "metadata": {
        "id": "oAJEq_EfihOj",
        "colab_type": "text"
      },
      "cell_type": "markdown",
      "source": [
        "# entrainement"
      ]
    },
    {
      "metadata": {
        "id": "mVBFwjJRFrEF",
        "colab_type": "code",
        "colab": {}
      },
      "cell_type": "code",
      "source": [
        "# q learning with table\n",
        "import numpy as np\n",
        "\n",
        "states_n = 16\n",
        "actions_n = 4\n",
        "Q = np.zeros([states_n, actions_n])"
      ],
      "execution_count": 0,
      "outputs": []
    },
    {
      "metadata": {
        "id": "55L8Y17CFyIp",
        "colab_type": "text"
      },
      "cell_type": "markdown",
      "source": [
        "On définit le nombre d’états (16), et d’actions pour chaque état (4). Et on construit le tableau de valeur etat / action Q, rempli de 0."
      ]
    },
    {
      "metadata": {
        "id": "azBvHL3wF1R8",
        "colab_type": "code",
        "colab": {}
      },
      "cell_type": "code",
      "source": [
        "# Set learning parameters\n",
        "lr = .85\n",
        "y = .99\n",
        "num_episodes = 1000"
      ],
      "execution_count": 0,
      "outputs": []
    },
    {
      "metadata": {
        "id": "WzbAjYBWF8LF",
        "colab_type": "text"
      },
      "cell_type": "markdown",
      "source": [
        "On définit les paramètres de l’apprentissage.\n",
        "\n",
        "**lr ** : learning rate, c’est la vitesse d’apprentissage. Plus il est élevé, plus les nouvelles informations seront importantes par rapport aux anciennes. À 0, l’agent n’apprend rien, et à 1, il ne retiendra pas les anciennes infos qu’il a apprises. C’est l’idéal si l’environnement est déterministe (ie 1 etat + 1 action = toujours le même état et la même récompense). Ici l’environnement n’est pas déterministe, car l’agent peut se tromper de direction. On le place donc à .85 (valeur trouvée par tatonnement).\n",
        "\n",
        "**y** : facteur d’actualisation (gamma), entre 0 et 1. : détermine l’importance des récompenses futures. Trop élevé (trop proche de 1), il y a risque de divergence.\n",
        "\n",
        "**num_episodes** : le nombre de parties que l’on va faire. 1000 est largement suffisant ici, comme on peut le voir dans les graphiques plus bas.\n"
      ]
    },
    {
      "metadata": {
        "id": "lnC4ivZFGG82",
        "colab_type": "code",
        "outputId": "a047089d-934a-48b1-c4b6-291bb7d68019",
        "colab": {
          "base_uri": "https://localhost:8080/",
          "height": 121
        }
      },
      "cell_type": "code",
      "source": [
        "cumul_reward_list = []\n",
        "actions_list = []\n",
        "states_list = []\n",
        "game = Game(4, 4, 0) # 0.1 chance to go left or right instead of asked direction\n",
        "for i in range(num_episodes):\n",
        "    actions = []\n",
        "    s = game.reset()\n",
        "    states = [s]\n",
        "    cumul_reward = 0\n",
        "    d = False\n",
        "    while True:\n",
        "        # on choisit une action aléatoire avec une certaine probabilité, qui décroit\n",
        "        # TODO : simplifier ça (pas clair)\n",
        "        Q2 = Q[s,:] + np.random.randn(1, actions_n)*(1. / (i +1))\n",
        "        a = np.argmax(Q2)\n",
        "        s1, reward, d, _ = game.move(a)\n",
        "        Q[s, a] = Q[s, a] + lr*(reward + y * np.max(Q[s1,:]) - Q[s, a]) # Fonction de mise à jour de la Q-table\n",
        "        cumul_reward += reward\n",
        "        s = s1\n",
        "        actions.append(a)\n",
        "        states.append(s)\n",
        "        if d == True:\n",
        "            break\n",
        "    states_list.append(states)\n",
        "    actions_list.append(actions)\n",
        "    cumul_reward_list.append(cumul_reward)\n",
        "\n",
        "print(\"Score over time: \" +  str(sum(cumul_reward_list[-100:])/100.0))\n",
        "\n",
        "game.reset()\n",
        "game.print()"
      ],
      "execution_count": 0,
      "outputs": [
        {
          "output_type": "stream",
          "text": [
            "Score over time: 5.0\n",
            "..ox\n",
            "....\n",
            "..¤.\n",
            "@...\n",
            "\n"
          ],
          "name": "stdout"
        }
      ]
    },
    {
      "metadata": {
        "id": "YoITssH1FOQe",
        "colab_type": "text"
      },
      "cell_type": "markdown",
      "source": [
        "## Explications lignes par lignes\n",
        "\n",
        "```\n",
        "    actions = []\n",
        "    s = game.reset()\n",
        "    states = [s]\n",
        "    cumul_reward = 0\n",
        "    d = False\n",
        "```\n",
        "Initialisation du jeu\n",
        "\n",
        "\n",
        "```\n",
        "    Q2 = Q[s,:] + np.random.randn(1, actions_n)*(1. / (i +1))\n",
        "    a = np.argmax(Q2)\n",
        "```\n",
        "\n",
        "Etape importante : ici, on choisit quelle action on va effectuer pour ce tour. On a une probabilité de faire une action aléatoire (i = 0 au début, donc l’action est forcément aléatoire). Puis cette probabilité décroit au cours du temps.\n",
        "\n",
        "\n",
        "\n",
        "```\n",
        "    Q[s, a] = Q[s, a] + lr*(reward + y * np.max(Q[s1,:]) - Q[s, a]) # Fonction de mise à jour de la Q-table\n",
        "```\n",
        "\n",
        "\n",
        "On applique la formule du Q-learning."
      ]
    },
    {
      "metadata": {
        "id": "MmdUUbUFGYxk",
        "colab_type": "text"
      },
      "cell_type": "markdown",
      "source": [
        "## la performance\n"
      ]
    },
    {
      "metadata": {
        "id": "F4qbsBu78R9W",
        "colab_type": "code",
        "outputId": "8790f6f9-94f7-49cd-9dd5-780c95244cd2",
        "colab": {
          "base_uri": "https://localhost:8080/",
          "height": 362
        }
      },
      "cell_type": "code",
      "source": [
        "import matplotlib.pyplot as plt\n",
        "plt.plot(cumul_reward_list[:100])\n",
        "plt.ylabel('Cumulative reward')\n",
        "plt.xlabel('Étape')\n",
        "plt.show()"
      ],
      "execution_count": 0,
      "outputs": [
        {
          "output_type": "display_data",
          "data": {
            "image/png": "[encoded data removed]",
            "text/plain": [
              "<Figure size 576x396 with 1 Axes>"
            ]
          },
          "metadata": {
            "tags": []
          }
        }
      ]
    },
    {
      "metadata": {
        "id": "dfLEIlMB5rke",
        "colab_type": "text"
      },
      "cell_type": "markdown",
      "source": [
        "# démo "
      ]
    },
    {
      "metadata": {
        "id": "4EFB-A2k5qwa",
        "colab_type": "code",
        "outputId": "e1ede741-f066-4e1f-d976-c343e797446e",
        "colab": {
          "base_uri": "https://localhost:8080/",
          "height": 583
        }
      },
      "cell_type": "code",
      "source": [
        "    actions = []\n",
        "    s = game.reset()\n",
        "    game.print()\n",
        "    states = [s]\n",
        "    cumul_reward = 0\n",
        "    d = False\n",
        "    while True:\n",
        "        # on choisit une action aléatoire avec une certaine probabilité, qui décroit\n",
        "        # TODO : simplifier ça (pas clair)\n",
        "        Q2 = Q[s,:] + np.random.randn(1, actions_n)*(1. / (i +1))\n",
        "        a = np.argmax(Q2)\n",
        "        s1, reward, d, _ = game.move(a)\n",
        "        Q[s, a] = Q[s, a] + lr*(reward + y * np.max(Q[s1,:]) - Q[s, a]) # Fonction de mise à jour de la Q-table\n",
        "        cumul_reward += reward\n",
        "        s = s1\n",
        "        actions.append(a)\n",
        "        states.append(s)\n",
        "        game.print()\n",
        "        if d == True:\n",
        "            break"
      ],
      "execution_count": 0,
      "outputs": [
        {
          "output_type": "stream",
          "text": [
            "..@.\n",
            "..¤.\n",
            "....\n",
            ".ox.\n",
            "\n",
            "..@.\n",
            "..¤.\n",
            "..x.\n",
            ".o..\n",
            "\n",
            "..@.\n",
            "..¤.\n",
            "...x\n",
            ".o..\n",
            "\n",
            "..@.\n",
            "..¤x\n",
            "....\n",
            ".o..\n",
            "\n",
            "..@x\n",
            "..¤.\n",
            "....\n",
            ".o..\n",
            "\n",
            "..x.\n",
            "..¤.\n",
            "....\n",
            ".o..\n",
            "\n"
          ],
          "name": "stdout"
        }
      ]
    }
  ]
}